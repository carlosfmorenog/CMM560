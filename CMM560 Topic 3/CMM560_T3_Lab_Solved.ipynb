{
 "cells": [
  {
   "cell_type": "markdown",
   "metadata": {
    "id": "stHtpLrx6xaw"
   },
   "source": [
    "# Topic 3 Laboratory SOLVED"
   ]
  },
  {
   "cell_type": "markdown",
   "metadata": {
    "id": "kXANaffC6xa5"
   },
   "source": [
    "In this activity you will have the opportunity to understand better how to import and manipulate images in Python."
   ]
  },
  {
   "cell_type": "markdown",
   "metadata": {
    "id": "K4c0ZPO76xa5"
   },
   "source": [
    "## Installing the necessary packages"
   ]
  },
  {
   "cell_type": "markdown",
   "metadata": {
    "id": "n5Ykmbze6xa6"
   },
   "source": [
    "To work with images in Python, we will use packages such as `numpy`, `OpenCV` and `matplotlib`."
   ]
  },
  {
   "cell_type": "markdown",
   "metadata": {
    "id": "-onjAttf6xa7"
   },
   "source": [
    "Execute the code in the following cell to install these packages using the `pip` command:"
   ]
  },
  {
   "cell_type": "code",
   "execution_count": 1,
   "metadata": {
    "id": "OhWjFoUy6xa8"
   },
   "outputs": [
    {
     "name": "stdout",
     "output_type": "stream",
     "text": [
      "Requirement already satisfied: opencv-python in c:\\anaconda\\lib\\site-packages (4.2.0.32)\n",
      "Requirement already satisfied: numpy>=1.14.5 in c:\\anaconda\\lib\\site-packages (from opencv-python) (1.20.2)\n"
     ]
    },
    {
     "name": "stderr",
     "output_type": "stream",
     "text": [
      "\n",
      "[notice] A new release of pip available: 22.3.1 -> 23.0.1\n",
      "[notice] To update, run: python.exe -m pip install --upgrade pip\n"
     ]
    },
    {
     "name": "stdout",
     "output_type": "stream",
     "text": [
      "Requirement already satisfied: matplotlib in c:\\users\\carlos\\appdata\\roaming\\python\\python37\\site-packages (3.3.4)\n",
      "Requirement already satisfied: pyparsing!=2.0.4,!=2.1.2,!=2.1.6,>=2.0.3 in c:\\anaconda\\lib\\site-packages (from matplotlib) (2.3.1)\n",
      "Requirement already satisfied: pillow>=6.2.0 in c:\\anaconda\\lib\\site-packages (from matplotlib) (8.0.1)\n",
      "Requirement already satisfied: cycler>=0.10 in c:\\anaconda\\lib\\site-packages (from matplotlib) (0.10.0)\n",
      "Requirement already satisfied: numpy>=1.15 in c:\\anaconda\\lib\\site-packages (from matplotlib) (1.20.2)\n",
      "Requirement already satisfied: kiwisolver>=1.0.1 in c:\\anaconda\\lib\\site-packages (from matplotlib) (1.0.1)\n",
      "Requirement already satisfied: python-dateutil>=2.1 in c:\\anaconda\\lib\\site-packages (from matplotlib) (2.8.0)\n",
      "Requirement already satisfied: six in c:\\anaconda\\lib\\site-packages (from cycler>=0.10->matplotlib) (1.12.0)\n",
      "Requirement already satisfied: setuptools in c:\\anaconda\\lib\\site-packages (from kiwisolver>=1.0.1->matplotlib) (45.2.0)\n"
     ]
    },
    {
     "name": "stderr",
     "output_type": "stream",
     "text": [
      "\n",
      "[notice] A new release of pip available: 22.3.1 -> 23.0.1\n",
      "[notice] To update, run: python.exe -m pip install --upgrade pip\n"
     ]
    }
   ],
   "source": [
    "!pip install opencv-python\n",
    "!pip install matplotlib"
   ]
  },
  {
   "cell_type": "markdown",
   "metadata": {
    "id": "DvQzQa8_6xa9"
   },
   "source": [
    "Notice that we did not install numpy due to the following reasons:"
   ]
  },
  {
   "cell_type": "markdown",
   "metadata": {
    "id": "tY3lbXML6xa_"
   },
   "source": [
    "* We installed it last week during class(and there is no need to install it again)"
   ]
  },
  {
   "cell_type": "markdown",
   "metadata": {
    "id": "hv2Nlbr66xbA"
   },
   "source": [
    "* Sometimes packages include sub-packages. Such is the case of the three previous ones, which already contain numpy"
   ]
  },
  {
   "cell_type": "markdown",
   "metadata": {
    "id": "pcW4MYUG6xbA"
   },
   "source": [
    "## Importing the modules"
   ]
  },
  {
   "cell_type": "markdown",
   "metadata": {
    "id": "n2e9rKjg6xbB"
   },
   "source": [
    "Now we will import the packages, functions and classes we will use for this activity:"
   ]
  },
  {
   "cell_type": "markdown",
   "metadata": {
    "id": "ScZFc85m6xbB"
   },
   "source": [
    "* The first one is `OpenCV`, which is refered to as `cv2`:"
   ]
  },
  {
   "cell_type": "code",
   "execution_count": 2,
   "metadata": {
    "id": "SuAG7nVM6xbC"
   },
   "outputs": [],
   "source": [
    "import cv2"
   ]
  },
  {
   "cell_type": "markdown",
   "metadata": {
    "id": "cOnFjqVi6xbC"
   },
   "source": [
    "* To handle and perform operations on the images, we need `numpy`, which can be imported by executing the command we saw in class:"
   ]
  },
  {
   "cell_type": "code",
   "execution_count": 3,
   "metadata": {
    "id": "hffYO7ss6xbD"
   },
   "outputs": [],
   "source": [
    "import numpy as np"
   ]
  },
  {
   "cell_type": "markdown",
   "metadata": {
    "id": "bLy6UnJb6xbD"
   },
   "source": [
    "* To plot the images, we will use `matplotlib.pyplot` assigning the pseudonym `plt` for short"
   ]
  },
  {
   "cell_type": "code",
   "execution_count": 4,
   "metadata": {
    "id": "OXOB3t0R6xbD"
   },
   "outputs": [],
   "source": [
    "import matplotlib.pyplot as plt"
   ]
  },
  {
   "cell_type": "markdown",
   "metadata": {
    "id": "S39H3uUW6xbD"
   },
   "source": [
    "## Working with grayscale images"
   ]
  },
  {
   "cell_type": "markdown",
   "metadata": {
    "id": "9oy3AmTM6xbD"
   },
   "source": [
    "### Importing the image"
   ]
  },
  {
   "cell_type": "markdown",
   "metadata": {
    "id": "LVOpllIk6xbD"
   },
   "source": [
    "First, go to moodle and from the section containing the material for this week download image `logo.png`."
   ]
  },
  {
   "cell_type": "markdown",
   "metadata": {},
   "source": [
    "![logo](https://www.dropbox.com/s/ee0hclyf62n4kql/logo.png?raw=1)"
   ]
  },
  {
   "cell_type": "markdown",
   "metadata": {
    "id": "dXthpCPU6xbE"
   },
   "source": [
    "Save the file **in the same directory as this Jupyter notebook**."
   ]
  },
  {
   "cell_type": "markdown",
   "metadata": {
    "id": "ysYLobmk6xbF"
   },
   "source": [
    "To import the Python logo as a `numpy array` into a variable called `img`, we will use the `imread`command from `OpenCV`."
   ]
  },
  {
   "cell_type": "markdown",
   "metadata": {
    "id": "sbjS_DMY6xbF"
   },
   "source": [
    "You can find the full documentation of the command [here](https://docs.opencv.org/4.2.0/d4/da8/group__imgcodecs.html), but I strongly recommend you to check the [OpenCV Python Tutorials](https://opencv24-python-tutorials.readthedocs.io/en/latest/) whenever you have a doubt of any command, as they are more suitable and easier to understand that the `OpenCV` original documentation which is designed for C."
   ]
  },
  {
   "cell_type": "code",
   "execution_count": 5,
   "metadata": {
    "id": "4Q8Y4OHo6xbF"
   },
   "outputs": [],
   "source": [
    "## Importing the logo as a grayscale image\n",
    "img = cv2.imread(\"logo.png\",0)"
   ]
  },
  {
   "cell_type": "markdown",
   "metadata": {
    "id": "fWlC27Kh6xbF"
   },
   "source": [
    "Notice that the `imread` function has two parameters: the **image file** to load and a **flag** (0/1) which indicates if we need to load the image as grayscale/colour respectively."
   ]
  },
  {
   "cell_type": "markdown",
   "metadata": {
    "id": "iA0lEzsX6xbG"
   },
   "source": [
    "Check the type and shape of the image to verify that you have a `numpy` array of size $75 \\times 75$"
   ]
  },
  {
   "cell_type": "code",
   "execution_count": 6,
   "metadata": {
    "id": "GTfXKDAa6xbG"
   },
   "outputs": [
    {
     "data": {
      "text/plain": [
       "numpy.ndarray"
      ]
     },
     "execution_count": 6,
     "metadata": {},
     "output_type": "execute_result"
    }
   ],
   "source": [
    "type(img)"
   ]
  },
  {
   "cell_type": "code",
   "execution_count": 7,
   "metadata": {
    "id": "E-fAl6M36xbG"
   },
   "outputs": [
    {
     "data": {
      "text/plain": [
       "(75, 75)"
      ]
     },
     "execution_count": 7,
     "metadata": {},
     "output_type": "execute_result"
    }
   ],
   "source": [
    "img.shape"
   ]
  },
  {
   "cell_type": "markdown",
   "metadata": {
    "id": "pbDwzeUq6xbH"
   },
   "source": [
    "What would happen if we print `img`? Are we able to see it? Run the following cell to find out!"
   ]
  },
  {
   "cell_type": "code",
   "execution_count": 8,
   "metadata": {
    "id": "vslB8qef6xbH",
    "scrolled": true
   },
   "outputs": [
    {
     "name": "stdout",
     "output_type": "stream",
     "text": [
      "[[234 246 246 ... 246 246 234]\n",
      " [243 255 255 ... 255 255 242]\n",
      " [243 255 255 ... 255 255 242]\n",
      " ...\n",
      " [243 255 255 ... 255 255 242]\n",
      " [243 255 255 ... 255 255 242]\n",
      " [234 246 246 ... 246 246 234]]\n"
     ]
    }
   ],
   "source": [
    "print(img)"
   ]
  },
  {
   "cell_type": "markdown",
   "metadata": {
    "id": "46rhafTy6xbH"
   },
   "source": [
    "Notice that we only see a bunch of numbers in an array. This is because when printing the variable, Python automatically assumes that we want to visualise the values of the pixels and not the image itself."
   ]
  },
  {
   "cell_type": "markdown",
   "metadata": {
    "id": "GeD4HX1Q6xbH"
   },
   "source": [
    "To show the actual image, we can use the `plt.imshow` function (from the `matplotlib.pyplot` library)."
   ]
  },
  {
   "cell_type": "code",
   "execution_count": 9,
   "metadata": {
    "id": "HrlSrs296xbI"
   },
   "outputs": [
    {
     "data": {
      "text/plain": [
       "<matplotlib.image.AxesImage at 0x17dac9ee390>"
      ]
     },
     "execution_count": 9,
     "metadata": {},
     "output_type": "execute_result"
    },
    {
     "data": {
      "image/png": "[encoded data removed]",
      "text/plain": [
       "<Figure size 432x288 with 1 Axes>"
      ]
     },
     "metadata": {
      "needs_background": "light"
     },
     "output_type": "display_data"
    }
   ],
   "source": [
    "plt.imshow(img)"
   ]
  },
  {
   "cell_type": "markdown",
   "metadata": {
    "id": "LWOvTV3F6xbI"
   },
   "source": [
    "However, the image does not appear in grayscale as `plt` attempts to use colours to show you the image with a better contrast."
   ]
  },
  {
   "cell_type": "markdown",
   "metadata": {
    "id": "7V0NOC5T6xbI"
   },
   "source": [
    "To avoid the yellow background, you can use the following setting:"
   ]
  },
  {
   "cell_type": "code",
   "execution_count": 10,
   "metadata": {
    "id": "7teDNwIy6xbI"
   },
   "outputs": [
    {
     "data": {
      "text/plain": [
       "<matplotlib.image.AxesImage at 0x17daeadf780>"
      ]
     },
     "execution_count": 10,
     "metadata": {},
     "output_type": "execute_result"
    },
    {
     "data": {
      "image/png": "[encoded data removed]",
      "text/plain": [
       "<Figure size 432x288 with 1 Axes>"
      ]
     },
     "metadata": {
      "needs_background": "light"
     },
     "output_type": "display_data"
    }
   ],
   "source": [
    "plt.imshow(img, cmap='Greys_r')"
   ]
  },
  {
   "cell_type": "markdown",
   "metadata": {
    "id": "HOEyHMog6xbJ"
   },
   "source": [
    "### Locating the value of pixels"
   ]
  },
  {
   "cell_type": "markdown",
   "metadata": {
    "id": "z0aRvlsq6xbJ"
   },
   "source": [
    "Notice that the image is shown with a coordinate plane which gives us an idea of the positions of the pixels within the logo."
   ]
  },
  {
   "cell_type": "markdown",
   "metadata": {
    "id": "nyXCFpcV6xbJ"
   },
   "source": [
    "Given that this is a $75 \\times 75$ image, we can access different positions of the image to see their value."
   ]
  },
  {
   "cell_type": "markdown",
   "metadata": {
    "id": "WcsPlg4X6xbJ"
   },
   "source": [
    "For instance, to see the value of the **left-top** pixel, we can use the following command (The first zero corresponds to the y-axis/rows and the second zero corresponds to the x-axis/column):"
   ]
  },
  {
   "cell_type": "code",
   "execution_count": 11,
   "metadata": {
    "id": "JIKrcrvy6xbK"
   },
   "outputs": [
    {
     "name": "stdout",
     "output_type": "stream",
     "text": [
      "234\n"
     ]
    }
   ],
   "source": [
    "print(img[0,0])"
   ]
  },
  {
   "cell_type": "markdown",
   "metadata": {
    "id": "deUsSM0E6xbK"
   },
   "source": [
    "We can use the same command to see different positions of the image."
   ]
  },
  {
   "cell_type": "markdown",
   "metadata": {
    "id": "MDEowsg96xbL"
   },
   "source": [
    "For instance, you can see the value of the other corners or some values from the two pythons."
   ]
  },
  {
   "cell_type": "code",
   "execution_count": 12,
   "metadata": {
    "id": "AlizAHJc6xbL"
   },
   "outputs": [
    {
     "name": "stdout",
     "output_type": "stream",
     "text": [
      "222\n"
     ]
    }
   ],
   "source": [
    "## Use this cell to print the values of different pixels\n",
    "print(img[50,40])"
   ]
  },
  {
   "cell_type": "markdown",
   "metadata": {
    "id": "sZ36Q3zi6xbM"
   },
   "source": [
    "Take note of the approximate values corresponding to the two pythons. We will use this information later!"
   ]
  },
  {
   "cell_type": "markdown",
   "metadata": {
    "id": "QRJH3Vl06xbM"
   },
   "source": [
    "### Changing the value of pixels"
   ]
  },
  {
   "cell_type": "markdown",
   "metadata": {
    "id": "X3Wmcr1A6xbM"
   },
   "source": [
    "We can change the top-left pixel of the img in `img` to black by issuing the following code:"
   ]
  },
  {
   "cell_type": "code",
   "execution_count": 13,
   "metadata": {
    "id": "tViVRlox6xbM"
   },
   "outputs": [
    {
     "name": "stdout",
     "output_type": "stream",
     "text": [
      "[[  0 246 246 ... 246 246 234]\n",
      " [243 255 255 ... 255 255 242]\n",
      " [243 255 255 ... 255 255 242]\n",
      " ...\n",
      " [243 255 255 ... 255 255 242]\n",
      " [243 255 255 ... 255 255 242]\n",
      " [234 246 246 ... 246 246 234]]\n"
     ]
    },
    {
     "data": {
      "text/plain": [
       "<matplotlib.image.AxesImage at 0x17daeb4f630>"
      ]
     },
     "execution_count": 13,
     "metadata": {},
     "output_type": "execute_result"
    },
    {
     "data": {
      "image/png": "[encoded data removed]",
      "text/plain": [
       "<Figure size 432x288 with 1 Axes>"
      ]
     },
     "metadata": {
      "needs_background": "light"
     },
     "output_type": "display_data"
    }
   ],
   "source": [
    "img[0,0]=0\n",
    "print(img)\n",
    "plt.imshow(img, cmap='Greys_r')"
   ]
  },
  {
   "cell_type": "markdown",
   "metadata": {
    "id": "tVM5WyPn6xbN"
   },
   "source": [
    "### Trimming the image"
   ]
  },
  {
   "cell_type": "markdown",
   "metadata": {
    "id": "BjBHV1ce6xbN"
   },
   "source": [
    "We can also slice the image and create a new, smaller one."
   ]
  },
  {
   "cell_type": "markdown",
   "metadata": {
    "id": "DOloq_O66xbO"
   },
   "source": [
    "For instance, say that you want to produce a new image only with the face of the dark-coloured python."
   ]
  },
  {
   "cell_type": "markdown",
   "metadata": {},
   "source": [
    "![facetop](https://www.dropbox.com/s/l9jgy6kean9e733/logobin_facetopmarked.png?raw=1)"
   ]
  },
  {
   "cell_type": "markdown",
   "metadata": {
    "id": "adJSfCg06xbO"
   },
   "source": [
    "By inspecting the image axis, we could mark our trim by starting from the **row 15** to the **row 26**, and then from the **column 24** to the **column 39**."
   ]
  },
  {
   "cell_type": "markdown",
   "metadata": {
    "id": "_uDEQ00Q6xbO"
   },
   "source": [
    "Now, we can use the following code to produce a trimmed image called `img_trimdark` with the face of the dark-coloured python."
   ]
  },
  {
   "cell_type": "code",
   "execution_count": 14,
   "metadata": {
    "id": "USD8z6UZ6xbO"
   },
   "outputs": [
    {
     "data": {
      "text/plain": [
       "<matplotlib.image.AxesImage at 0x17daebb1ac8>"
      ]
     },
     "execution_count": 14,
     "metadata": {},
     "output_type": "execute_result"
    },
    {
     "data": {
      "image/png": "[encoded data removed]",
      "text/plain": [
       "<Figure size 432x288 with 1 Axes>"
      ]
     },
     "metadata": {
      "needs_background": "light"
     },
     "output_type": "display_data"
    }
   ],
   "source": [
    "img_trimdark = img[15:26,24:39] # rows go first, columns go after\n",
    "plt.imshow(img_trimdark, cmap='Greys_r')"
   ]
  },
  {
   "cell_type": "markdown",
   "metadata": {
    "id": "rCyhexFh6xbP"
   },
   "source": [
    "Now it's your turn to create a trimmed image called `img_trimlight` with the face of the light-coloured python."
   ]
  },
  {
   "cell_type": "code",
   "execution_count": 15,
   "metadata": {
    "id": "lYFJjnS06xbP"
   },
   "outputs": [
    {
     "data": {
      "text/plain": [
       "<matplotlib.image.AxesImage at 0x17daec1bb00>"
      ]
     },
     "execution_count": 15,
     "metadata": {},
     "output_type": "execute_result"
    },
    {
     "data": {
      "image/png": "[encoded data removed]",
      "text/plain": [
       "<Figure size 432x288 with 1 Axes>"
      ]
     },
     "metadata": {
      "needs_background": "light"
     },
     "output_type": "display_data"
    }
   ],
   "source": [
    "## Use this cell to create img_trimlight\n",
    "img_trimdark = img[50:60,25:51] # rows go first, columns go after\n",
    "plt.imshow(img_trimdark, cmap='Greys_r')"
   ]
  },
  {
   "cell_type": "markdown",
   "metadata": {
    "id": "f_7FwnWn6xbP"
   },
   "source": [
    "### Inverting the image"
   ]
  },
  {
   "cell_type": "markdown",
   "metadata": {
    "id": "10sxdp_A6xbP"
   },
   "source": [
    "You can also create the *negative* of an image by doing the following:"
   ]
  },
  {
   "cell_type": "code",
   "execution_count": 16,
   "metadata": {
    "id": "Fj5eIGEw6xbP"
   },
   "outputs": [
    {
     "name": "stdout",
     "output_type": "stream",
     "text": [
      "[[255   9   9 ...   9   9  21]\n",
      " [ 12   0   0 ...   0   0  13]\n",
      " [ 12   0   0 ...   0   0  13]\n",
      " ...\n",
      " [ 12   0   0 ...   0   0  13]\n",
      " [ 12   0   0 ...   0   0  13]\n",
      " [ 21   9   9 ...   9   9  21]]\n"
     ]
    },
    {
     "data": {
      "text/plain": [
       "<matplotlib.image.AxesImage at 0x17daec7f828>"
      ]
     },
     "execution_count": 16,
     "metadata": {},
     "output_type": "execute_result"
    },
    {
     "data": {
      "image/png": "[encoded data removed]",
      "text/plain": [
       "<Figure size 432x288 with 1 Axes>"
      ]
     },
     "metadata": {
      "needs_background": "light"
     },
     "output_type": "display_data"
    }
   ],
   "source": [
    "img_neg = 255 - img\n",
    "print(img_neg)\n",
    "plt.imshow(img_neg, cmap='Greys_r')"
   ]
  },
  {
   "cell_type": "markdown",
   "metadata": {
    "id": "GqdaI3iV6xbP"
   },
   "source": [
    "By subtracting $255$ minus the original image, what we are doing is converting all values into their opposite ones (in the gray scale)."
   ]
  },
  {
   "cell_type": "markdown",
   "metadata": {
    "id": "bJ25WFZu6xbP"
   },
   "source": [
    "### Transposing the image"
   ]
  },
  {
   "cell_type": "markdown",
   "metadata": {
    "id": "mXv-WEas6xbP"
   },
   "source": [
    "As seen in the previous lab, there is a mathematical operation called **transpose** which lets you exchange the columns and the rows of a matrix. This function is also included in the numpy module, and it can be applied to image arrays as well:"
   ]
  },
  {
   "cell_type": "code",
   "execution_count": 17,
   "metadata": {
    "id": "qs8wHWiu6xbQ"
   },
   "outputs": [
    {
     "data": {
      "text/plain": [
       "<matplotlib.image.AxesImage at 0x17daecdec18>"
      ]
     },
     "execution_count": 17,
     "metadata": {},
     "output_type": "execute_result"
    },
    {
     "data": {
      "image/png": "[encoded data removed]",
      "text/plain": [
       "<Figure size 432x288 with 1 Axes>"
      ]
     },
     "metadata": {
      "needs_background": "light"
     },
     "output_type": "display_data"
    }
   ],
   "source": [
    "img_trans = img.transpose()\n",
    "plt.imshow(img_trans, cmap='Greys_r')"
   ]
  },
  {
   "cell_type": "markdown",
   "metadata": {
    "id": "fZwznVtR6xbQ"
   },
   "source": [
    "Notice that the new image is turned 90 degrees counter-clockwise and has also been flipped vertically."
   ]
  },
  {
   "cell_type": "markdown",
   "metadata": {
    "id": "clCVtrHK6xbQ"
   },
   "source": [
    "### Resizing the image"
   ]
  },
  {
   "cell_type": "markdown",
   "metadata": {
    "id": "6jSMzvti6xbQ"
   },
   "source": [
    "`OpenCV`also contains a pre-defined function to resize the image by indicating the new width/height."
   ]
  },
  {
   "cell_type": "code",
   "execution_count": 18,
   "metadata": {
    "id": "joWlna4f6xbQ"
   },
   "outputs": [
    {
     "data": {
      "text/plain": [
       "<matplotlib.image.AxesImage at 0x17daed4c208>"
      ]
     },
     "execution_count": 18,
     "metadata": {},
     "output_type": "execute_result"
    },
    {
     "data": {
      "image/png": "[encoded data removed]",
      "text/plain": [
       "<Figure size 432x288 with 1 Axes>"
      ]
     },
     "metadata": {
      "needs_background": "light"
     },
     "output_type": "display_data"
    }
   ],
   "source": [
    "img_resize = cv2.resize(img, (100, 150)) \n",
    "plt.imshow(img_resize, cmap='Greys_r')"
   ]
  },
  {
   "cell_type": "markdown",
   "metadata": {
    "id": "1-MelB-N6xbR"
   },
   "source": [
    "Try different values in the tuple (second parameter of the function) to see different results."
   ]
  },
  {
   "cell_type": "markdown",
   "metadata": {
    "id": "hTBOVawd6xbR"
   },
   "source": [
    "### Normalising the image"
   ]
  },
  {
   "cell_type": "markdown",
   "metadata": {
    "id": "JhPltk3s6xbS"
   },
   "source": [
    "To convert the image from standard to normalised grayscale, we simply need to divide the `numpy`array by 255 as follows"
   ]
  },
  {
   "cell_type": "code",
   "execution_count": 19,
   "metadata": {
    "id": "p9exDxe16xbS"
   },
   "outputs": [
    {
     "name": "stdout",
     "output_type": "stream",
     "text": [
      "[[0.         0.96470588 0.96470588 ... 0.96470588 0.96470588 0.91764706]\n",
      " [0.95294118 1.         1.         ... 1.         1.         0.94901961]\n",
      " [0.95294118 1.         1.         ... 1.         1.         0.94901961]\n",
      " ...\n",
      " [0.95294118 1.         1.         ... 1.         1.         0.94901961]\n",
      " [0.95294118 1.         1.         ... 1.         1.         0.94901961]\n",
      " [0.91764706 0.96470588 0.96470588 ... 0.96470588 0.96470588 0.91764706]]\n"
     ]
    },
    {
     "data": {
      "text/plain": [
       "<matplotlib.image.AxesImage at 0x17daedaf6d8>"
      ]
     },
     "execution_count": 19,
     "metadata": {},
     "output_type": "execute_result"
    },
    {
     "data": {
      "image/png": "[encoded data removed]",
      "text/plain": [
       "<Figure size 432x288 with 1 Axes>"
      ]
     },
     "metadata": {
      "needs_background": "light"
     },
     "output_type": "display_data"
    }
   ],
   "source": [
    "img_norm = img/255\n",
    "print(img_norm)\n",
    "plt.imshow(img_norm, cmap='Greys_r')"
   ]
  },
  {
   "cell_type": "markdown",
   "metadata": {
    "id": "lVhHlriH6xbS"
   },
   "source": [
    "Notice that nothing has changed visually, just the values!"
   ]
  },
  {
   "cell_type": "markdown",
   "metadata": {
    "id": "0CCKpmAF6xbV"
   },
   "source": [
    "### Saving the image"
   ]
  },
  {
   "cell_type": "markdown",
   "metadata": {
    "id": "utPH4Nfg6xbV"
   },
   "source": [
    "You can save any of the images produced in this tutorial by using either the `cv2.imwrite` or the `plt.imsave` command."
   ]
  },
  {
   "cell_type": "markdown",
   "metadata": {
    "id": "AvcpjZGa6xbV"
   },
   "source": [
    "For instance, to save the transpose image, use the following command:"
   ]
  },
  {
   "cell_type": "code",
   "execution_count": 20,
   "metadata": {
    "id": "GEp-fELY6xbW"
   },
   "outputs": [
    {
     "data": {
      "text/plain": [
       "True"
      ]
     },
     "execution_count": 20,
     "metadata": {},
     "output_type": "execute_result"
    }
   ],
   "source": [
    "cv2.imwrite('logotrans_cv.png',img_trans)"
   ]
  },
  {
   "cell_type": "markdown",
   "metadata": {},
   "source": [
    "or"
   ]
  },
  {
   "cell_type": "code",
   "execution_count": 21,
   "metadata": {
    "id": "QkmlyLhDm9Mm"
   },
   "outputs": [],
   "source": [
    "plt.imsave('logotrans_plt.png',img_trans)"
   ]
  },
  {
   "cell_type": "markdown",
   "metadata": {
    "id": "H82aQuxR6xbW"
   },
   "source": [
    "I recommend to use `cv2.imwrite`, given that the `plt` option will save it with the yellow background by default."
   ]
  },
  {
   "cell_type": "markdown",
   "metadata": {
    "id": "bbJPoya26xbW"
   },
   "source": [
    "## In case you are curious, how does the image look in colour?"
   ]
  },
  {
   "cell_type": "code",
   "execution_count": 22,
   "metadata": {
    "id": "KoBgqFQO6xbW"
   },
   "outputs": [
    {
     "name": "stdout",
     "output_type": "stream",
     "text": [
      "[[[234 234 234]\n",
      "  [246 246 246]\n",
      "  [246 246 246]\n",
      "  ...\n",
      "  [246 246 246]\n",
      "  [246 246 246]\n",
      "  [234 234 234]]\n",
      "\n",
      " [[243 243 243]\n",
      "  [255 255 255]\n",
      "  [255 255 255]\n",
      "  ...\n",
      "  [255 255 255]\n",
      "  [255 255 255]\n",
      "  [242 242 242]]\n",
      "\n",
      " [[243 243 243]\n",
      "  [255 255 255]\n",
      "  [255 255 255]\n",
      "  ...\n",
      "  [255 255 255]\n",
      "  [255 255 255]\n",
      "  [242 242 242]]\n",
      "\n",
      " ...\n",
      "\n",
      " [[243 243 243]\n",
      "  [255 255 255]\n",
      "  [255 255 255]\n",
      "  ...\n",
      "  [255 255 255]\n",
      "  [255 255 255]\n",
      "  [242 242 242]]\n",
      "\n",
      " [[243 243 243]\n",
      "  [255 255 255]\n",
      "  [255 255 255]\n",
      "  ...\n",
      "  [255 255 255]\n",
      "  [255 255 255]\n",
      "  [242 242 242]]\n",
      "\n",
      " [[234 234 234]\n",
      "  [246 246 246]\n",
      "  [246 246 246]\n",
      "  ...\n",
      "  [246 246 246]\n",
      "  [246 246 246]\n",
      "  [234 234 234]]]\n",
      "(75, 75, 3)\n"
     ]
    },
    {
     "data": {
      "text/plain": [
       "<matplotlib.image.AxesImage at 0x17daee17cc0>"
      ]
     },
     "execution_count": 22,
     "metadata": {},
     "output_type": "execute_result"
    },
    {
     "data": {
      "image/png": "[encoded data removed]",
      "text/plain": [
       "<Figure size 432x288 with 1 Axes>"
      ]
     },
     "metadata": {
      "needs_background": "light"
     },
     "output_type": "display_data"
    }
   ],
   "source": [
    "## Load the image with the flag in 1 (colour mode)\n",
    "img_color = cv2.imread(\"logo.png\",1)\n",
    "## Print the image (you will see many matrices as there are multiple dimensions)\n",
    "print(img_color)\n",
    "## Print the shape (notice now it has 3 dimensions)\n",
    "print(img_color.shape)\n",
    "## Create three copies of the image\n",
    "img_R = img_color.copy()\n",
    "img_G = img_color.copy()\n",
    "img_B = img_color.copy()\n",
    "## In each copy, only access the values of interest\n",
    "img_R[:, :, (1, 2)] = 0\n",
    "img_G[:, :, (0, 2)] = 0\n",
    "img_B[:, :, (0, 1)] = 0\n",
    "## Concatenate the original image to the three chanels\n",
    "img_RGB = np.concatenate((img_color, img_R, img_G, img_B), axis=1)\n",
    "## Show the images\n",
    "plt.imshow(img_RGB)"
   ]
  }
 ],
 "metadata": {
  "colab": {
   "name": "CMM536_Week3_lab.ipynb",
   "provenance": [],
   "toc_visible": true
  },
  "hide_input": false,
  "kernelspec": {
   "display_name": "Python 3 (ipykernel)",
   "language": "python",
   "name": "python3"
  },
  "language_info": {
   "codemirror_mode": {
    "name": "ipython",
    "version": 3
   },
   "file_extension": ".py",
   "mimetype": "text/x-python",
   "name": "python",
   "nbconvert_exporter": "python",
   "pygments_lexer": "ipython3",
   "version": "3.10.9"
  },
  "varInspector": {
   "cols": {
    "lenName": 16,
    "lenType": 16,
    "lenVar": 40
   },
   "kernels_config": {
    "python": {
     "delete_cmd_postfix": "",
     "delete_cmd_prefix": "del ",
     "library": "var_list.py",
     "varRefreshCmd": "print(var_dic_list())"
    },
    "r": {
     "delete_cmd_postfix": ") ",
     "delete_cmd_prefix": "rm(",
     "library": "var_list.r",
     "varRefreshCmd": "cat(var_dic_list()) "
    }
   },
   "types_to_exclude": [
    "module",
    "function",
    "builtin_function_or_method",
    "instance",
    "_Feature"
   ],
   "window_display": false
  }
 },
 "nbformat": 4,
 "nbformat_minor": 1
}
