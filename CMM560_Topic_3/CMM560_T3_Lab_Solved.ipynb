{
  "cells": [
    {
      "cell_type": "markdown",
      "metadata": {
        "id": "view-in-github",
        "colab_type": "text"
      },
      "source": [
        "<a href=\"https://colab.research.google.com/github/carlosfmorenog/CMM560/blob/main/CMM560_Topic_3/CMM560_T3_Lab_Solved.ipynb\" target=\"_parent\"><img src=\"https://colab.research.google.com/assets/colab-badge.svg\" alt=\"Open In Colab\"/></a>"
      ]
    },
    {
      "cell_type": "markdown",
      "metadata": {
        "id": "stHtpLrx6xaw"
      },
      "source": [
        "# Topic 3 Laboratory SOLVED"
      ]
    },
    {
      "cell_type": "markdown",
      "metadata": {
        "id": "kXANaffC6xa5"
      },
      "source": [
        "In this activity you will have the opportunity to understand better how to import and manipulate images in Python."
      ]
    },
    {
      "cell_type": "markdown",
      "metadata": {
        "id": "K4c0ZPO76xa5"
      },
      "source": [
        "## Installing the necessary packages"
      ]
    },
    {
      "cell_type": "markdown",
      "metadata": {
        "id": "n5Ykmbze6xa6"
      },
      "source": [
        "To work with images in Python, we will use packages such as `numpy`, `OpenCV` and `matplotlib`."
      ]
    },
    {
      "cell_type": "markdown",
      "metadata": {
        "id": "-onjAttf6xa7"
      },
      "source": [
        "Execute the code in the following cell to install these packages using the `pip` command:"
      ]
    },
    {
      "cell_type": "code",
      "execution_count": null,
      "metadata": {
        "id": "OhWjFoUy6xa8",
        "outputId": "62cdb3d0-060f-4bde-c13c-abfff5794815",
        "colab": {
          "base_uri": "https://localhost:8080/"
        }
      },
      "outputs": [
        {
          "output_type": "stream",
          "name": "stdout",
          "text": [
            "Requirement already satisfied: opencv-python in /usr/local/lib/python3.11/dist-packages (4.11.0.86)\n",
            "Requirement already satisfied: numpy>=1.21.2 in /usr/local/lib/python3.11/dist-packages (from opencv-python) (1.26.4)\n",
            "Requirement already satisfied: matplotlib in /usr/local/lib/python3.11/dist-packages (3.10.0)\n",
            "Requirement already satisfied: contourpy>=1.0.1 in /usr/local/lib/python3.11/dist-packages (from matplotlib) (1.3.1)\n",
            "Requirement already satisfied: cycler>=0.10 in /usr/local/lib/python3.11/dist-packages (from matplotlib) (0.12.1)\n",
            "Requirement already satisfied: fonttools>=4.22.0 in /usr/local/lib/python3.11/dist-packages (from matplotlib) (4.56.0)\n",
            "Requirement already satisfied: kiwisolver>=1.3.1 in /usr/local/lib/python3.11/dist-packages (from matplotlib) (1.4.8)\n",
            "Requirement already satisfied: numpy>=1.23 in /usr/local/lib/python3.11/dist-packages (from matplotlib) (1.26.4)\n",
            "Requirement already satisfied: packaging>=20.0 in /usr/local/lib/python3.11/dist-packages (from matplotlib) (24.2)\n",
            "Requirement already satisfied: pillow>=8 in /usr/local/lib/python3.11/dist-packages (from matplotlib) (11.1.0)\n",
            "Requirement already satisfied: pyparsing>=2.3.1 in /usr/local/lib/python3.11/dist-packages (from matplotlib) (3.2.1)\n",
            "Requirement already satisfied: python-dateutil>=2.7 in /usr/local/lib/python3.11/dist-packages (from matplotlib) (2.8.2)\n",
            "Requirement already satisfied: six>=1.5 in /usr/local/lib/python3.11/dist-packages (from python-dateutil>=2.7->matplotlib) (1.17.0)\n"
          ]
        }
      ],
      "source": [
        "!pip install opencv-python\n",
        "!pip install matplotlib"
      ]
    },
    {
      "cell_type": "markdown",
      "metadata": {
        "id": "DvQzQa8_6xa9"
      },
      "source": [
        "Notice that we did not install numpy due to the following reasons:"
      ]
    },
    {
      "cell_type": "markdown",
      "metadata": {
        "id": "tY3lbXML6xa_"
      },
      "source": [
        "* We installed it last week during class(and there is no need to install it again)"
      ]
    },
    {
      "cell_type": "markdown",
      "metadata": {
        "id": "hv2Nlbr66xbA"
      },
      "source": [
        "* Sometimes packages include sub-packages. Such is the case of the three previous ones, which already contain numpy"
      ]
    },
    {
      "cell_type": "markdown",
      "metadata": {
        "id": "pcW4MYUG6xbA"
      },
      "source": [
        "## Importing the modules"
      ]
    },
    {
      "cell_type": "markdown",
      "metadata": {
        "id": "n2e9rKjg6xbB"
      },
      "source": [
        "Now we will import the packages, functions and classes we will use for this activity:"
      ]
    },
    {
      "cell_type": "markdown",
      "metadata": {
        "id": "ScZFc85m6xbB"
      },
      "source": [
        "* The first one is `OpenCV`, which is refered to as `cv2`:"
      ]
    },
    {
      "cell_type": "code",
      "execution_count": null,
      "metadata": {
        "id": "SuAG7nVM6xbC"
      },
      "outputs": [],
      "source": [
        "import cv2"
      ]
    },
    {
      "cell_type": "markdown",
      "metadata": {
        "id": "cOnFjqVi6xbC"
      },
      "source": [
        "* To handle and perform operations on the images, we need `numpy`, which can be imported by executing the command we saw in class:"
      ]
    },
    {
      "cell_type": "code",
      "execution_count": null,
      "metadata": {
        "id": "hffYO7ss6xbD"
      },
      "outputs": [],
      "source": [
        "import numpy as np"
      ]
    },
    {
      "cell_type": "markdown",
      "metadata": {
        "id": "bLy6UnJb6xbD"
      },
      "source": [
        "* To plot the images, we will use `matplotlib.pyplot` assigning the pseudonym `plt` for short"
      ]
    },
    {
      "cell_type": "code",
      "execution_count": null,
      "metadata": {
        "id": "OXOB3t0R6xbD"
      },
      "outputs": [],
      "source": [
        "import matplotlib.pyplot as plt"
      ]
    },
    {
      "cell_type": "markdown",
      "metadata": {
        "id": "S39H3uUW6xbD"
      },
      "source": [
        "## Working with grayscale images"
      ]
    },
    {
      "cell_type": "markdown",
      "metadata": {
        "id": "9oy3AmTM6xbD"
      },
      "source": [
        "### Importing the image"
      ]
    },
    {
      "cell_type": "markdown",
      "metadata": {
        "id": "LVOpllIk6xbD"
      },
      "source": [
        "First, go to moodle and from the section containing the material for this week download image `logo.png`."
      ]
    },
    {
      "cell_type": "markdown",
      "metadata": {
        "id": "fpPMbQltCGlO"
      },
      "source": [
        "![logo](https://www.dropbox.com/s/ee0hclyf62n4kql/logo.png?raw=1)"
      ]
    },
    {
      "cell_type": "markdown",
      "metadata": {
        "id": "dXthpCPU6xbE"
      },
      "source": [
        "You need to upload `logo.png` to this notebook, either by dragging and dropping the file in the \"Files\" section (fifth icon on the left hand side) or by running the following cell:"
      ]
    },
    {
      "cell_type": "code",
      "source": [
        "from google.colab import files\n",
        "uploaded = files.upload()"
      ],
      "metadata": {
        "colab": {
          "base_uri": "https://localhost:8080/",
          "height": 74
        },
        "id": "8_1n0wjiaTlm",
        "outputId": "f866da23-0cd3-440a-aa2e-98f0d930f7ee"
      },
      "execution_count": null,
      "outputs": [
        {
          "output_type": "display_data",
          "data": {
            "text/plain": [
              "<IPython.core.display.HTML object>"
            ],
            "text/html": [
              "\n",
              "     <input type=\"file\" id=\"files-21290589-45e0-42c5-bc49-e69cff58c595\" name=\"files[]\" multiple disabled\n",
              "        style=\"border:none\" />\n",
              "     <output id=\"result-21290589-45e0-42c5-bc49-e69cff58c595\">\n",
              "      Upload widget is only available when the cell has been executed in the\n",
              "      current browser session. Please rerun this cell to enable.\n",
              "      </output>\n",
              "      <script>// Copyright 2017 Google LLC\n",
              "//\n",
              "// Licensed under the Apache License, Version 2.0 (the \"License\");\n",
              "// you may not use this file except in compliance with the License.\n",
              "// You may obtain a copy of the License at\n",
              "//\n",
              "//      http://www.apache.org/licenses/LICENSE-2.0\n",
              "//\n",
              "// Unless required by applicable law or agreed to in writing, software\n",
              "// distributed under the License is distributed on an \"AS IS\" BASIS,\n",
              "// WITHOUT WARRANTIES OR CONDITIONS OF ANY KIND, either express or implied.\n",
              "// See the License for the specific language governing permissions and\n",
              "// limitations under the License.\n",
              "\n",
              "/**\n",
              " * @fileoverview Helpers for google.colab Python module.\n",
              " */\n",
              "(function(scope) {\n",
              "function span(text, styleAttributes = {}) {\n",
              "  const element = document.createElement('span');\n",
              "  element.textContent = text;\n",
              "  for (const key of Object.keys(styleAttributes)) {\n",
              "    element.style[key] = styleAttributes[key];\n",
              "  }\n",
              "  return element;\n",
              "}\n",
              "\n",
              "// Max number of bytes which will be uploaded at a time.\n",
              "const MAX_PAYLOAD_SIZE = 100 * 1024;\n",
              "\n",
              "function _uploadFiles(inputId, outputId) {\n",
              "  const steps = uploadFilesStep(inputId, outputId);\n",
              "  const outputElement = document.getElementById(outputId);\n",
              "  // Cache steps on the outputElement to make it available for the next call\n",
              "  // to uploadFilesContinue from Python.\n",
              "  outputElement.steps = steps;\n",
              "\n",
              "  return _uploadFilesContinue(outputId);\n",
              "}\n",
              "\n",
              "// This is roughly an async generator (not supported in the browser yet),\n",
              "// where there are multiple asynchronous steps and the Python side is going\n",
              "// to poll for completion of each step.\n",
              "// This uses a Promise to block the python side on completion of each step,\n",
              "// then passes the result of the previous step as the input to the next step.\n",
              "function _uploadFilesContinue(outputId) {\n",
              "  const outputElement = document.getElementById(outputId);\n",
              "  const steps = outputElement.steps;\n",
              "\n",
              "  const next = steps.next(outputElement.lastPromiseValue);\n",
              "  return Promise.resolve(next.value.promise).then((value) => {\n",
              "    // Cache the last promise value to make it available to the next\n",
              "    // step of the generator.\n",
              "    outputElement.lastPromiseValue = value;\n",
              "    return next.value.response;\n",
              "  });\n",
              "}\n",
              "\n",
              "/**\n",
              " * Generator function which is called between each async step of the upload\n",
              " * process.\n",
              " * @param {string} inputId Element ID of the input file picker element.\n",
              " * @param {string} outputId Element ID of the output display.\n",
              " * @return {!Iterable<!Object>} Iterable of next steps.\n",
              " */\n",
              "function* uploadFilesStep(inputId, outputId) {\n",
              "  const inputElement = document.getElementById(inputId);\n",
              "  inputElement.disabled = false;\n",
              "\n",
              "  const outputElement = document.getElementById(outputId);\n",
              "  outputElement.innerHTML = '';\n",
              "\n",
              "  const pickedPromise = new Promise((resolve) => {\n",
              "    inputElement.addEventListener('change', (e) => {\n",
              "      resolve(e.target.files);\n",
              "    });\n",
              "  });\n",
              "\n",
              "  const cancel = document.createElement('button');\n",
              "  inputElement.parentElement.appendChild(cancel);\n",
              "  cancel.textContent = 'Cancel upload';\n",
              "  const cancelPromise = new Promise((resolve) => {\n",
              "    cancel.onclick = () => {\n",
              "      resolve(null);\n",
              "    };\n",
              "  });\n",
              "\n",
              "  // Wait for the user to pick the files.\n",
              "  const files = yield {\n",
              "    promise: Promise.race([pickedPromise, cancelPromise]),\n",
              "    response: {\n",
              "      action: 'starting',\n",
              "    }\n",
              "  };\n",
              "\n",
              "  cancel.remove();\n",
              "\n",
              "  // Disable the input element since further picks are not allowed.\n",
              "  inputElement.disabled = true;\n",
              "\n",
              "  if (!files) {\n",
              "    return {\n",
              "      response: {\n",
              "        action: 'complete',\n",
              "      }\n",
              "    };\n",
              "  }\n",
              "\n",
              "  for (const file of files) {\n",
              "    const li = document.createElement('li');\n",
              "    li.append(span(file.name, {fontWeight: 'bold'}));\n",
              "    li.append(span(\n",
              "        `(${file.type || 'n/a'}) - ${file.size} bytes, ` +\n",
              "        `last modified: ${\n",
              "            file.lastModifiedDate ? file.lastModifiedDate.toLocaleDateString() :\n",
              "                                    'n/a'} - `));\n",
              "    const percent = span('0% done');\n",
              "    li.appendChild(percent);\n",
              "\n",
              "    outputElement.appendChild(li);\n",
              "\n",
              "    const fileDataPromise = new Promise((resolve) => {\n",
              "      const reader = new FileReader();\n",
              "      reader.onload = (e) => {\n",
              "        resolve(e.target.result);\n",
              "      };\n",
              "      reader.readAsArrayBuffer(file);\n",
              "    });\n",
              "    // Wait for the data to be ready.\n",
              "    let fileData = yield {\n",
              "      promise: fileDataPromise,\n",
              "      response: {\n",
              "        action: 'continue',\n",
              "      }\n",
              "    };\n",
              "\n",
              "    // Use a chunked sending to avoid message size limits. See b/62115660.\n",
              "    let position = 0;\n",
              "    do {\n",
              "      const length = Math.min(fileData.byteLength - position, MAX_PAYLOAD_SIZE);\n",
              "      const chunk = new Uint8Array(fileData, position, length);\n",
              "      position += length;\n",
              "\n",
              "      const base64 = btoa(String.fromCharCode.apply(null, chunk));\n",
              "      yield {\n",
              "        response: {\n",
              "          action: 'append',\n",
              "          file: file.name,\n",
              "          data: base64,\n",
              "        },\n",
              "      };\n",
              "\n",
              "      let percentDone = fileData.byteLength === 0 ?\n",
              "          100 :\n",
              "          Math.round((position / fileData.byteLength) * 100);\n",
              "      percent.textContent = `${percentDone}% done`;\n",
              "\n",
              "    } while (position < fileData.byteLength);\n",
              "  }\n",
              "\n",
              "  // All done.\n",
              "  yield {\n",
              "    response: {\n",
              "      action: 'complete',\n",
              "    }\n",
              "  };\n",
              "}\n",
              "\n",
              "scope.google = scope.google || {};\n",
              "scope.google.colab = scope.google.colab || {};\n",
              "scope.google.colab._files = {\n",
              "  _uploadFiles,\n",
              "  _uploadFilesContinue,\n",
              "};\n",
              "})(self);\n",
              "</script> "
            ]
          },
          "metadata": {}
        },
        {
          "output_type": "stream",
          "name": "stdout",
          "text": [
            "Saving logo.png to logo.png\n"
          ]
        }
      ]
    },
    {
      "cell_type": "markdown",
      "metadata": {
        "id": "ysYLobmk6xbF"
      },
      "source": [
        "To import the Python logo as a `numpy array` into a variable called `img`, we will use the `imread`command from `OpenCV`."
      ]
    },
    {
      "cell_type": "markdown",
      "metadata": {
        "id": "sbjS_DMY6xbF"
      },
      "source": [
        "You can find the full documentation of the command [here](https://docs.opencv.org/4.2.0/d4/da8/group__imgcodecs.html), but I strongly recommend you to check the [OpenCV Python Tutorials](https://opencv24-python-tutorials.readthedocs.io/en/latest/) whenever you have a doubt of any command, as they are more suitable and easier to understand that the `OpenCV` original documentation which is designed for C."
      ]
    },
    {
      "cell_type": "code",
      "execution_count": null,
      "metadata": {
        "id": "4Q8Y4OHo6xbF"
      },
      "outputs": [],
      "source": [
        "## Importing the logo as a grayscale image\n",
        "img = cv2.imread(\"/content/logo.png\",0)"
      ]
    },
    {
      "cell_type": "markdown",
      "metadata": {
        "id": "fWlC27Kh6xbF"
      },
      "source": [
        "Notice that the `imread` function has two parameters: the **image file** to load and a **flag** (0/1) which indicates if we need to load the image as grayscale/colour respectively."
      ]
    },
    {
      "cell_type": "markdown",
      "metadata": {
        "id": "iA0lEzsX6xbG"
      },
      "source": [
        "Check the type and shape of the image to verify that you have a `numpy` array of size $75 \\times 75$"
      ]
    },
    {
      "cell_type": "code",
      "execution_count": null,
      "metadata": {
        "id": "GTfXKDAa6xbG",
        "outputId": "23f5fb21-7a5f-4e1e-f607-d083be84c9c4",
        "colab": {
          "base_uri": "https://localhost:8080/"
        }
      },
      "outputs": [
        {
          "output_type": "execute_result",
          "data": {
            "text/plain": [
              "numpy.ndarray"
            ]
          },
          "metadata": {},
          "execution_count": 7
        }
      ],
      "source": [
        "type(img)"
      ]
    },
    {
      "cell_type": "code",
      "execution_count": null,
      "metadata": {
        "id": "E-fAl6M36xbG",
        "outputId": "1a6f95ce-b97e-48d5-84dd-3d2d4d891fef",
        "colab": {
          "base_uri": "https://localhost:8080/"
        }
      },
      "outputs": [
        {
          "output_type": "execute_result",
          "data": {
            "text/plain": [
              "(75, 75)"
            ]
          },
          "metadata": {},
          "execution_count": 8
        }
      ],
      "source": [
        "img.shape"
      ]
    },
    {
      "cell_type": "markdown",
      "metadata": {
        "id": "pbDwzeUq6xbH"
      },
      "source": [
        "What would happen if we print `img`? Are we able to see it? Run the following cell to find out!"
      ]
    },
    {
      "cell_type": "code",
      "execution_count": null,
      "metadata": {
        "id": "vslB8qef6xbH",
        "scrolled": true,
        "outputId": "3ef1ae22-1786-46c2-8f12-cefdd0d96a94",
        "colab": {
          "base_uri": "https://localhost:8080/"
        }
      },
      "outputs": [
        {
          "output_type": "stream",
          "name": "stdout",
          "text": [
            "[[234 246 246 ... 246 246 234]\n",
            " [243 255 255 ... 255 255 242]\n",
            " [243 255 255 ... 255 255 242]\n",
            " ...\n",
            " [243 255 255 ... 255 255 242]\n",
            " [243 255 255 ... 255 255 242]\n",
            " [234 246 246 ... 246 246 234]]\n"
          ]
        }
      ],
      "source": [
        "print(img)"
      ]
    },
    {
      "cell_type": "markdown",
      "metadata": {
        "id": "46rhafTy6xbH"
      },
      "source": [
        "Notice that we only see a bunch of numbers in an array. This is because when printing the variable, Python automatically assumes that we want to visualise the values of the pixels and not the image itself."
      ]
    },
    {
      "cell_type": "markdown",
      "metadata": {
        "id": "GeD4HX1Q6xbH"
      },
      "source": [
        "To show the actual image, we can use the `plt.imshow` function (from the `matplotlib.pyplot` library)."
      ]
    },
    {
      "cell_type": "code",
      "execution_count": null,
      "metadata": {
        "id": "HrlSrs296xbI",
        "outputId": "c239141f-de80-49bc-c51c-73d208a809b9",
        "colab": {
          "base_uri": "https://localhost:8080/",
          "height": 451
        }
      },
      "outputs": [
        {
          "output_type": "execute_result",
          "data": {
            "text/plain": [
              "<matplotlib.image.AxesImage at 0x7bb2e54c9f90>"
            ]
          },
          "metadata": {},
          "execution_count": 10
        },
        {
          "output_type": "display_data",
          "data": {
            "text/plain": [
              "<Figure size 640x480 with 1 Axes>"
            ],
            "image/png": "[encoded data removed]"
          },
          "metadata": {}
        }
      ],
      "source": [
        "plt.imshow(img, cmap='Greys_r')"
      ]
    },
    {
      "cell_type": "markdown",
      "metadata": {
        "id": "LWOvTV3F6xbI"
      },
      "source": [
        "However, the image does not appear in grayscale as `plt` attempts to use colours to show you the image with a better contrast."
      ]
    },
    {
      "cell_type": "markdown",
      "metadata": {
        "id": "7V0NOC5T6xbI"
      },
      "source": [
        "To avoid the yellow background, you can use the following setting:"
      ]
    },
    {
      "cell_type": "code",
      "execution_count": null,
      "metadata": {
        "id": "7teDNwIy6xbI",
        "outputId": "22755da1-0045-4e5c-a5f2-d016f92f0e95",
        "colab": {
          "base_uri": "https://localhost:8080/",
          "height": 451
        }
      },
      "outputs": [
        {
          "output_type": "execute_result",
          "data": {
            "text/plain": [
              "<matplotlib.image.AxesImage at 0x7bb2b87595d0>"
            ]
          },
          "metadata": {},
          "execution_count": 11
        },
        {
          "output_type": "display_data",
          "data": {
            "text/plain": [
              "<Figure size 640x480 with 1 Axes>"
            ],
            "image/png": "[encoded data removed]"
          },
          "metadata": {}
        }
      ],
      "source": [
        "plt.imshow(img, cmap='Greys_r')"
      ]
    },
    {
      "cell_type": "markdown",
      "metadata": {
        "id": "HOEyHMog6xbJ"
      },
      "source": [
        "### Locating the value of pixels"
      ]
    },
    {
      "cell_type": "markdown",
      "metadata": {
        "id": "z0aRvlsq6xbJ"
      },
      "source": [
        "Notice that the image is shown with a coordinate plane which gives us an idea of the positions of the pixels within the logo."
      ]
    },
    {
      "cell_type": "markdown",
      "metadata": {
        "id": "nyXCFpcV6xbJ"
      },
      "source": [
        "Given that this is a $75 \\times 75$ image, we can access different positions of the image to see their value."
      ]
    },
    {
      "cell_type": "markdown",
      "metadata": {
        "id": "WcsPlg4X6xbJ"
      },
      "source": [
        "For instance, to see the value of the **left-top** pixel, we can use the following command (The first zero corresponds to the y-axis/rows and the second zero corresponds to the x-axis/column):"
      ]
    },
    {
      "cell_type": "code",
      "execution_count": null,
      "metadata": {
        "id": "JIKrcrvy6xbK",
        "outputId": "1d7b8461-eba2-4e4a-f919-7534162272fa",
        "colab": {
          "base_uri": "https://localhost:8080/"
        }
      },
      "outputs": [
        {
          "output_type": "stream",
          "name": "stdout",
          "text": [
            "234\n"
          ]
        }
      ],
      "source": [
        "print(img[0,0])"
      ]
    },
    {
      "cell_type": "markdown",
      "metadata": {
        "id": "deUsSM0E6xbK"
      },
      "source": [
        "We can use the same command to see different positions of the image."
      ]
    },
    {
      "cell_type": "markdown",
      "metadata": {
        "id": "MDEowsg96xbL"
      },
      "source": [
        "For instance, you can see the value of the other corners or some values from the two pythons."
      ]
    },
    {
      "cell_type": "code",
      "execution_count": null,
      "metadata": {
        "id": "AlizAHJc6xbL",
        "outputId": "f5546c1a-f539-40d4-c606-fd0d88c48bf0",
        "colab": {
          "base_uri": "https://localhost:8080/"
        }
      },
      "outputs": [
        {
          "output_type": "stream",
          "name": "stdout",
          "text": [
            "222\n"
          ]
        }
      ],
      "source": [
        "## Use this cell to print the values of different pixels\n",
        "print(img[50,40])"
      ]
    },
    {
      "cell_type": "markdown",
      "metadata": {
        "id": "sZ36Q3zi6xbM"
      },
      "source": [
        "Take note of the approximate values corresponding to the two pythons. We will use this information later!"
      ]
    },
    {
      "cell_type": "markdown",
      "metadata": {
        "id": "QRJH3Vl06xbM"
      },
      "source": [
        "### Changing the value of pixels"
      ]
    },
    {
      "cell_type": "markdown",
      "metadata": {
        "id": "X3Wmcr1A6xbM"
      },
      "source": [
        "We can change the top-left pixel of the img in `img` to black by issuing the following code:"
      ]
    },
    {
      "cell_type": "code",
      "execution_count": null,
      "metadata": {
        "id": "tViVRlox6xbM",
        "outputId": "adcecbe2-4df7-441b-e895-bcef800c18f9",
        "colab": {
          "base_uri": "https://localhost:8080/",
          "height": 575
        }
      },
      "outputs": [
        {
          "output_type": "stream",
          "name": "stdout",
          "text": [
            "[[  0 246 246 ... 246 246 234]\n",
            " [243 255 255 ... 255 255 242]\n",
            " [243 255 255 ... 255 255 242]\n",
            " ...\n",
            " [243 255 255 ... 255 255 242]\n",
            " [243 255 255 ... 255 255 242]\n",
            " [234 246 246 ... 246 246 234]]\n"
          ]
        },
        {
          "output_type": "execute_result",
          "data": {
            "text/plain": [
              "<matplotlib.image.AxesImage at 0x7bb2b87fdfd0>"
            ]
          },
          "metadata": {},
          "execution_count": 14
        },
        {
          "output_type": "display_data",
          "data": {
            "text/plain": [
              "<Figure size 640x480 with 1 Axes>"
            ],
            "image/png": "[encoded data removed]"
          },
          "metadata": {}
        }
      ],
      "source": [
        "img[0,0]=0\n",
        "print(img)\n",
        "plt.imshow(img, cmap='Greys_r')"
      ]
    },
    {
      "cell_type": "markdown",
      "metadata": {
        "id": "tVM5WyPn6xbN"
      },
      "source": [
        "### Trimming the image"
      ]
    },
    {
      "cell_type": "markdown",
      "metadata": {
        "id": "BjBHV1ce6xbN"
      },
      "source": [
        "We can also slice the image and create a new, smaller one."
      ]
    },
    {
      "cell_type": "markdown",
      "metadata": {
        "id": "DOloq_O66xbO"
      },
      "source": [
        "For instance, say that you want to produce a new image only with the face of the \"top\" Python."
      ]
    },
    {
      "cell_type": "markdown",
      "metadata": {
        "id": "xVe1ClvLCGlu"
      },
      "source": [
        "![facetop](https://www.dropbox.com/s/l9jgy6kean9e733/logobin_facetopmarked.png?raw=1)"
      ]
    },
    {
      "cell_type": "markdown",
      "metadata": {
        "id": "adJSfCg06xbO"
      },
      "source": [
        "By inspecting the image axis, we could mark our trim by starting from the **row 15** to the **row 26**, and then from the **column 24** to the **column 39**."
      ]
    },
    {
      "cell_type": "markdown",
      "metadata": {
        "id": "_uDEQ00Q6xbO"
      },
      "source": [
        "Now, we can use the following code to produce a trimmed image called `img_trimtop` with the face of the top python."
      ]
    },
    {
      "cell_type": "code",
      "execution_count": null,
      "metadata": {
        "id": "USD8z6UZ6xbO",
        "outputId": "83edfc7f-814c-470e-c7de-ae0534b7418b",
        "colab": {
          "base_uri": "https://localhost:8080/",
          "height": 442
        }
      },
      "outputs": [
        {
          "output_type": "execute_result",
          "data": {
            "text/plain": [
              "<matplotlib.image.AxesImage at 0x7bb2b882ebd0>"
            ]
          },
          "metadata": {},
          "execution_count": 15
        },
        {
          "output_type": "display_data",
          "data": {
            "text/plain": [
              "<Figure size 640x480 with 1 Axes>"
            ],
            "image/png": "[encoded data removed]"
          },
          "metadata": {}
        }
      ],
      "source": [
        "img_trimtop = img[15:26,24:39] # rows go first, columns go after\n",
        "plt.imshow(img_trimtop, cmap='Greys_r')"
      ]
    },
    {
      "cell_type": "markdown",
      "metadata": {
        "id": "rCyhexFh6xbP"
      },
      "source": [
        "Now it's your turn to create a trimmed image called `img_trimbottom` with the face of the bottom python."
      ]
    },
    {
      "cell_type": "code",
      "execution_count": null,
      "metadata": {
        "id": "lYFJjnS06xbP",
        "outputId": "7ee0a787-783b-4ea3-850c-66370bceb42d",
        "colab": {
          "base_uri": "https://localhost:8080/",
          "height": 269
        }
      },
      "outputs": [
        {
          "output_type": "execute_result",
          "data": {
            "text/plain": [
              "<matplotlib.image.AxesImage at 0x7bb2b88f6bd0>"
            ]
          },
          "metadata": {},
          "execution_count": 16
        },
        {
          "output_type": "display_data",
          "data": {
            "text/plain": [
              "<Figure size 640x480 with 1 Axes>"
            ],
            "image/png": "[encoded data removed]"
          },
          "metadata": {}
        }
      ],
      "source": [
        "## Use this cell to create img_trimbottom\n",
        "img_trimbottom = img[50:60,25:51] # rows go first, columns go after\n",
        "plt.imshow(img_trimbottom, cmap='Greys_r')"
      ]
    },
    {
      "cell_type": "markdown",
      "metadata": {
        "id": "f_7FwnWn6xbP"
      },
      "source": [
        "### Inverting the image"
      ]
    },
    {
      "cell_type": "markdown",
      "metadata": {
        "id": "10sxdp_A6xbP"
      },
      "source": [
        "You can also create the *negative* of an image by doing the following:"
      ]
    },
    {
      "cell_type": "code",
      "execution_count": null,
      "metadata": {
        "id": "Fj5eIGEw6xbP",
        "outputId": "ab5cebfa-160a-4dd7-9084-7468d0d8e447",
        "colab": {
          "base_uri": "https://localhost:8080/",
          "height": 575
        }
      },
      "outputs": [
        {
          "output_type": "stream",
          "name": "stdout",
          "text": [
            "[[255   9   9 ...   9   9  21]\n",
            " [ 12   0   0 ...   0   0  13]\n",
            " [ 12   0   0 ...   0   0  13]\n",
            " ...\n",
            " [ 12   0   0 ...   0   0  13]\n",
            " [ 12   0   0 ...   0   0  13]\n",
            " [ 21   9   9 ...   9   9  21]]\n"
          ]
        },
        {
          "output_type": "execute_result",
          "data": {
            "text/plain": [
              "<matplotlib.image.AxesImage at 0x7bb2b8675c10>"
            ]
          },
          "metadata": {},
          "execution_count": 17
        },
        {
          "output_type": "display_data",
          "data": {
            "text/plain": [
              "<Figure size 640x480 with 1 Axes>"
            ],
            "image/png": "[encoded data removed]"
          },
          "metadata": {}
        }
      ],
      "source": [
        "img_neg = 255 - img\n",
        "print(img_neg)\n",
        "plt.imshow(img_neg, cmap='Greys_r')"
      ]
    },
    {
      "cell_type": "markdown",
      "metadata": {
        "id": "GqdaI3iV6xbP"
      },
      "source": [
        "By subtracting $255$ minus the original image, what we are doing is converting all values into their opposite ones (in the gray scale)."
      ]
    },
    {
      "cell_type": "markdown",
      "metadata": {
        "id": "bJ25WFZu6xbP"
      },
      "source": [
        "### Transposing the image"
      ]
    },
    {
      "cell_type": "markdown",
      "metadata": {
        "id": "mXv-WEas6xbP"
      },
      "source": [
        "As seen in the previous lab, there is a mathematical operation called **transpose** which lets you exchange the columns and the rows of a matrix. This function is also included in the numpy module, and it can be applied to image arrays as well:"
      ]
    },
    {
      "cell_type": "code",
      "execution_count": null,
      "metadata": {
        "id": "qs8wHWiu6xbQ",
        "outputId": "9a6a9cc2-af9b-471f-d1e8-de4e25331ad9",
        "colab": {
          "base_uri": "https://localhost:8080/",
          "height": 451
        }
      },
      "outputs": [
        {
          "output_type": "execute_result",
          "data": {
            "text/plain": [
              "<matplotlib.image.AxesImage at 0x7bb2b86dc6d0>"
            ]
          },
          "metadata": {},
          "execution_count": 18
        },
        {
          "output_type": "display_data",
          "data": {
            "text/plain": [
              "<Figure size 640x480 with 1 Axes>"
            ],
            "image/png": "[encoded data removed]"
          },
          "metadata": {}
        }
      ],
      "source": [
        "img_trans = img.transpose()\n",
        "plt.imshow(img_trans, cmap='Greys_r')"
      ]
    },
    {
      "cell_type": "markdown",
      "metadata": {
        "id": "fZwznVtR6xbQ"
      },
      "source": [
        "Notice that **it seems** that the new image is turned 90 degrees counter-clockwise and has also been flipped horizontally."
      ]
    },
    {
      "cell_type": "markdown",
      "source": [
        "Although in reality, what has happened is that pixels have changed positions, so for instance, the pixel that was in row 3, column 7, now is in row 7, column 3."
      ],
      "metadata": {
        "id": "bgh4TKQHwbN5"
      }
    },
    {
      "cell_type": "markdown",
      "metadata": {
        "id": "clCVtrHK6xbQ"
      },
      "source": [
        "### Resizing the image"
      ]
    },
    {
      "cell_type": "markdown",
      "metadata": {
        "id": "6jSMzvti6xbQ"
      },
      "source": [
        "`OpenCV`also contains a pre-defined function to resize the image by indicating the new width/height."
      ]
    },
    {
      "cell_type": "code",
      "execution_count": null,
      "metadata": {
        "id": "joWlna4f6xbQ",
        "outputId": "1fc48b82-d82d-476e-da1b-3b30f2a23538",
        "colab": {
          "base_uri": "https://localhost:8080/",
          "height": 452
        }
      },
      "outputs": [
        {
          "output_type": "execute_result",
          "data": {
            "text/plain": [
              "<matplotlib.image.AxesImage at 0x7bb2b86fbf50>"
            ]
          },
          "metadata": {},
          "execution_count": 19
        },
        {
          "output_type": "display_data",
          "data": {
            "text/plain": [
              "<Figure size 640x480 with 1 Axes>"
            ],
            "image/png": "[encoded data removed]"
          },
          "metadata": {}
        }
      ],
      "source": [
        "img_resize = cv2.resize(img, (100, 150))\n",
        "plt.imshow(img_resize, cmap='Greys_r')"
      ]
    },
    {
      "cell_type": "markdown",
      "metadata": {
        "id": "1-MelB-N6xbR"
      },
      "source": [
        "Try different values in the tuple (second parameter of the function) to see different results."
      ]
    },
    {
      "cell_type": "markdown",
      "metadata": {
        "id": "hTBOVawd6xbR"
      },
      "source": [
        "### Normalising the image"
      ]
    },
    {
      "cell_type": "markdown",
      "metadata": {
        "id": "JhPltk3s6xbS"
      },
      "source": [
        "To convert the image from standard to normalised grayscale, we simply need to divide the `numpy`array by 255 as follows"
      ]
    },
    {
      "cell_type": "code",
      "execution_count": null,
      "metadata": {
        "id": "p9exDxe16xbS",
        "outputId": "5901c519-8a06-499c-fea5-ebd3c8a53dfd",
        "colab": {
          "base_uri": "https://localhost:8080/",
          "height": 575
        }
      },
      "outputs": [
        {
          "output_type": "stream",
          "name": "stdout",
          "text": [
            "[[0.         0.96470588 0.96470588 ... 0.96470588 0.96470588 0.91764706]\n",
            " [0.95294118 1.         1.         ... 1.         1.         0.94901961]\n",
            " [0.95294118 1.         1.         ... 1.         1.         0.94901961]\n",
            " ...\n",
            " [0.95294118 1.         1.         ... 1.         1.         0.94901961]\n",
            " [0.95294118 1.         1.         ... 1.         1.         0.94901961]\n",
            " [0.91764706 0.96470588 0.96470588 ... 0.96470588 0.96470588 0.91764706]]\n"
          ]
        },
        {
          "output_type": "execute_result",
          "data": {
            "text/plain": [
              "<matplotlib.image.AxesImage at 0x7bb2b859c710>"
            ]
          },
          "metadata": {},
          "execution_count": 20
        },
        {
          "output_type": "display_data",
          "data": {
            "text/plain": [
              "<Figure size 640x480 with 1 Axes>"
            ],
            "image/png": "[encoded data removed]"
          },
          "metadata": {}
        }
      ],
      "source": [
        "img_norm = img/255\n",
        "print(img_norm)\n",
        "plt.imshow(img_norm, cmap='Greys_r')"
      ]
    },
    {
      "cell_type": "markdown",
      "metadata": {
        "id": "lVhHlriH6xbS"
      },
      "source": [
        "Notice that nothing has changed visually, just the values!"
      ]
    },
    {
      "cell_type": "markdown",
      "metadata": {
        "id": "0CCKpmAF6xbV"
      },
      "source": [
        "### Saving the image"
      ]
    },
    {
      "cell_type": "markdown",
      "metadata": {
        "id": "utPH4Nfg6xbV"
      },
      "source": [
        "You can save any of the images produced in this tutorial by using either the `cv2.imwrite` or the `plt.imsave` command."
      ]
    },
    {
      "cell_type": "markdown",
      "metadata": {
        "id": "AvcpjZGa6xbV"
      },
      "source": [
        "For instance, to save the transpose image, use the following command:"
      ]
    },
    {
      "cell_type": "code",
      "execution_count": null,
      "metadata": {
        "id": "GEp-fELY6xbW",
        "outputId": "222d7d82-e259-4458-d5d7-15a868cff40a",
        "colab": {
          "base_uri": "https://localhost:8080/"
        }
      },
      "outputs": [
        {
          "output_type": "execute_result",
          "data": {
            "text/plain": [
              "True"
            ]
          },
          "metadata": {},
          "execution_count": 21
        }
      ],
      "source": [
        "cv2.imwrite('logotrans_cv.png',img_trans)"
      ]
    },
    {
      "cell_type": "markdown",
      "metadata": {
        "id": "JSg4QzEFCGmB"
      },
      "source": [
        "or"
      ]
    },
    {
      "cell_type": "code",
      "execution_count": null,
      "metadata": {
        "id": "QkmlyLhDm9Mm"
      },
      "outputs": [],
      "source": [
        "plt.imsave('logotrans_plt.png',img_trans)"
      ]
    },
    {
      "cell_type": "markdown",
      "metadata": {
        "id": "H82aQuxR6xbW"
      },
      "source": [
        "I recommend to use `cv2.imwrite`, given that the `plt` option will save it with the yellow background by default."
      ]
    },
    {
      "cell_type": "markdown",
      "metadata": {
        "id": "bbJPoya26xbW"
      },
      "source": [
        "## In case you are curious, how does the image look in colour?"
      ]
    },
    {
      "cell_type": "code",
      "execution_count": null,
      "metadata": {
        "id": "KoBgqFQO6xbW",
        "outputId": "a354bb2c-e75a-4467-aa5b-0ed6afa2c749",
        "colab": {
          "base_uri": "https://localhost:8080/",
          "height": 1000
        }
      },
      "outputs": [
        {
          "output_type": "stream",
          "name": "stdout",
          "text": [
            "[[[234 234 234]\n",
            "  [246 246 246]\n",
            "  [246 246 246]\n",
            "  ...\n",
            "  [246 246 246]\n",
            "  [246 246 246]\n",
            "  [234 234 234]]\n",
            "\n",
            " [[243 243 243]\n",
            "  [255 255 255]\n",
            "  [255 255 255]\n",
            "  ...\n",
            "  [255 255 255]\n",
            "  [255 255 255]\n",
            "  [242 242 242]]\n",
            "\n",
            " [[243 243 243]\n",
            "  [255 255 255]\n",
            "  [255 255 255]\n",
            "  ...\n",
            "  [255 255 255]\n",
            "  [255 255 255]\n",
            "  [242 242 242]]\n",
            "\n",
            " ...\n",
            "\n",
            " [[243 243 243]\n",
            "  [255 255 255]\n",
            "  [255 255 255]\n",
            "  ...\n",
            "  [255 255 255]\n",
            "  [255 255 255]\n",
            "  [242 242 242]]\n",
            "\n",
            " [[243 243 243]\n",
            "  [255 255 255]\n",
            "  [255 255 255]\n",
            "  ...\n",
            "  [255 255 255]\n",
            "  [255 255 255]\n",
            "  [242 242 242]]\n",
            "\n",
            " [[234 234 234]\n",
            "  [246 246 246]\n",
            "  [246 246 246]\n",
            "  ...\n",
            "  [246 246 246]\n",
            "  [246 246 246]\n",
            "  [234 234 234]]]\n",
            "(75, 75, 3)\n"
          ]
        },
        {
          "output_type": "execute_result",
          "data": {
            "text/plain": [
              "<matplotlib.image.AxesImage at 0x7bb2b8453f50>"
            ]
          },
          "metadata": {},
          "execution_count": 23
        },
        {
          "output_type": "display_data",
          "data": {
            "text/plain": [
              "<Figure size 640x480 with 1 Axes>"
            ],
            "image/png": "[encoded data removed]"
          },
          "metadata": {}
        }
      ],
      "source": [
        "## Load the image with the flag in 1 (colour mode)\n",
        "img_color = cv2.imread(\"/content/logo.png\",1)\n",
        "## Print the image (you will see many matrices as there are multiple dimensions)\n",
        "print(img_color)\n",
        "## Print the shape (notice now it has 3 dimensions)\n",
        "print(img_color.shape)\n",
        "## Create three copies of the image\n",
        "img_R = img_color.copy()\n",
        "img_G = img_color.copy()\n",
        "img_B = img_color.copy()\n",
        "## In each copy, only access the values of interest\n",
        "img_R[:, :, (1, 2)] = 0\n",
        "img_G[:, :, (0, 2)] = 0\n",
        "img_B[:, :, (0, 1)] = 0\n",
        "## Concatenate the original image to the three chanels\n",
        "img_RGB = np.concatenate((img_color, img_R, img_G, img_B), axis=1)\n",
        "## Show the images\n",
        "plt.imshow(img_RGB, cmap='Greys_r')"
      ]
    }
  ],
  "metadata": {
    "colab": {
      "provenance": [],
      "include_colab_link": true
    },
    "hide_input": false,
    "kernelspec": {
      "display_name": "Python 3",
      "language": "python",
      "name": "python3"
    },
    "language_info": {
      "codemirror_mode": {
        "name": "ipython",
        "version": 3
      },
      "file_extension": ".py",
      "mimetype": "text/x-python",
      "name": "python",
      "nbconvert_exporter": "python",
      "pygments_lexer": "ipython3",
      "version": "3.7.3"
    },
    "varInspector": {
      "cols": {
        "lenName": 16,
        "lenType": 16,
        "lenVar": 40
      },
      "kernels_config": {
        "python": {
          "delete_cmd_postfix": "",
          "delete_cmd_prefix": "del ",
          "library": "var_list.py",
          "varRefreshCmd": "print(var_dic_list())"
        },
        "r": {
          "delete_cmd_postfix": ") ",
          "delete_cmd_prefix": "rm(",
          "library": "var_list.r",
          "varRefreshCmd": "cat(var_dic_list()) "
        }
      },
      "types_to_exclude": [
        "module",
        "function",
        "builtin_function_or_method",
        "instance",
        "_Feature"
      ],
      "window_display": false
    }
  },
  "nbformat": 4,
  "nbformat_minor": 0
}