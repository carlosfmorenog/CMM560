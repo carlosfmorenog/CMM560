{
  "cells": [
    {
      "cell_type": "markdown",
      "metadata": {
        "id": "view-in-github",
        "colab_type": "text"
      },
      "source": [
        "<a href=\"https://colab.research.google.com/github/carlosfmorenog/CMM560/blob/main/CMM560_Topic_3/CMM560_T3_Lec.ipynb\" target=\"_parent\"><img src=\"https://colab.research.google.com/assets/colab-badge.svg\" alt=\"Open In Colab\"/></a>"
      ]
    },
    {
      "cell_type": "markdown",
      "metadata": {
        "hide_input": true,
        "id": "mravwxsuzr0M"
      },
      "source": [
        "# Topic 3 Lecture - Introduction to Computer Vision and Machine Learning"
      ]
    },
    {
      "cell_type": "markdown",
      "metadata": {
        "id": "f4VlYJVMzr0R"
      },
      "source": [
        "## Aims of the Session"
      ]
    },
    {
      "cell_type": "markdown",
      "metadata": {
        "id": "AthoZUUkzr0S"
      },
      "source": [
        "* Learn the basics on how images are imported to our computers and converted into data"
      ]
    },
    {
      "cell_type": "markdown",
      "metadata": {
        "id": "cLTof9lqzr0T"
      },
      "source": [
        "## Resources for the Lecture"
      ]
    },
    {
      "cell_type": "markdown",
      "metadata": {
        "id": "y8FTHYz6zr0T"
      },
      "source": [
        "* Introduction to Computing and Programming in Python: A Multimedia Approach. Mark Guzdial, Barbara Ericson. Pearson, 2016.\n",
        "* Various others mentioned throughout the lecture!"
      ]
    },
    {
      "cell_type": "markdown",
      "metadata": {
        "id": "AmmwxX8vzr0U"
      },
      "source": [
        "## How does an image look *digitally*?"
      ]
    },
    {
      "cell_type": "markdown",
      "metadata": {
        "id": "6yDSulX2zr0V"
      },
      "source": [
        "* These are the main **compression algorithms** used to store images:"
      ]
    },
    {
      "cell_type": "markdown",
      "metadata": {
        "id": "GNaMdumgzr0V"
      },
      "source": [
        "![Fig. 1. Image extensions](https://www.dropbox.com/s/4an7wf2na3fvgvf/comp.jpg?raw=1)"
      ]
    },
    {
      "cell_type": "markdown",
      "metadata": {
        "id": "f9kLsW_wzr0V"
      },
      "source": [
        "### Compression Algorithms"
      ]
    },
    {
      "cell_type": "markdown",
      "metadata": {
        "id": "42DGzBgAzr0W"
      },
      "source": [
        "* The *art* of compression algorithms is in **quantisation**!"
      ]
    },
    {
      "cell_type": "markdown",
      "metadata": {
        "id": "BJOr9RL1zr0W"
      },
      "source": [
        "* Best algorithms are the ones that achieve best visual quality with reduced size."
      ]
    },
    {
      "cell_type": "markdown",
      "metadata": {
        "id": "bzAxy9qszr0W"
      },
      "source": [
        "![Fig. 2. Quantization](https://www.dropbox.com/s/714a6l2o7ln6ukw/quant.jpg?raw=1)"
      ]
    },
    {
      "cell_type": "markdown",
      "metadata": {
        "id": "YLDOwO6Szr0W"
      },
      "source": [
        "* The importance of compression"
      ]
    },
    {
      "cell_type": "code",
      "execution_count": null,
      "metadata": {
        "colab": {
          "base_uri": "https://localhost:8080/",
          "height": 336
        },
        "id": "6u4s7zFtzr0W",
        "outputId": "7366743e-e78e-44d0-cec2-f8bbd23dc61a"
      },
      "outputs": [
        {
          "output_type": "execute_result",
          "data": {
            "text/plain": [
              "<IPython.core.display.HTML object>"
            ],
            "text/html": [
              "<iframe width=\"560\" height=\"315\" src=\"https://www.youtube.com/embed/NMkZpuiEqh8\" frameborder=\"0\" allow=\"accelerometer; autoplay; encrypted-media; gyroscope; picture-in-picture\" allowfullscreen></iframe>"
            ]
          },
          "metadata": {},
          "execution_count": 1
        }
      ],
      "source": [
        "import warnings\n",
        "warnings.filterwarnings('ignore')\n",
        "from IPython.display import HTML\n",
        "HTML('<iframe width=\"560\" height=\"315\" src=\"https://www.youtube.com/embed/NMkZpuiEqh8\" frameborder=\"0\" allow=\"accelerometer; autoplay; encrypted-media; gyroscope; picture-in-picture\" allowfullscreen></iframe>')"
      ]
    },
    {
      "cell_type": "markdown",
      "metadata": {
        "id": "NjsOLeIFzr0Z"
      },
      "source": [
        "* Fortunately, this is **NOT** our problem in this module!"
      ]
    },
    {
      "cell_type": "markdown",
      "metadata": {
        "id": "dX9pJFVJzr0a"
      },
      "source": [
        "* We are going to work with images in *simpler* ways"
      ]
    },
    {
      "cell_type": "markdown",
      "metadata": {
        "id": "ikzs5SdXzr0a"
      },
      "source": [
        "## Images as arrays/matrices"
      ]
    },
    {
      "cell_type": "markdown",
      "metadata": {
        "id": "dD-uybjSzr0a"
      },
      "source": [
        "* Using the `numpy` module"
      ]
    },
    {
      "cell_type": "markdown",
      "metadata": {
        "id": "f4dXBesOzr0b"
      },
      "source": [
        "* Complementing by using the `OpenCV`module, which will let us import and manipulate images"
      ]
    },
    {
      "cell_type": "markdown",
      "metadata": {
        "id": "RL4-rqgozr0b"
      },
      "source": [
        "* When we import an image, the first thing we will get is a **bitmap**"
      ]
    },
    {
      "cell_type": "markdown",
      "metadata": {
        "id": "M8cP3KEAzr0b"
      },
      "source": [
        "![Fig. 3. Bitmap](https://www.dropbox.com/s/zinj0mv5uzu9eb1/pix.jpg?raw=1)"
      ]
    },
    {
      "cell_type": "markdown",
      "metadata": {
        "id": "8sN4j3bkzr0c"
      },
      "source": [
        "* Each pixel will be represented as a value within an $n \\times m$ matrix"
      ]
    },
    {
      "cell_type": "markdown",
      "metadata": {
        "id": "BCwn6BbQzr0c"
      },
      "source": [
        "### Grayscale Images"
      ]
    },
    {
      "cell_type": "markdown",
      "metadata": {
        "id": "QXMLrSCIzr0d"
      },
      "source": [
        "* A 2D grid of pixels"
      ]
    },
    {
      "cell_type": "markdown",
      "metadata": {
        "id": "UnoLiq50zr0d"
      },
      "source": [
        "* Two ways to represent them:"
      ]
    },
    {
      "cell_type": "markdown",
      "metadata": {
        "id": "UUonXH6Pzr0d"
      },
      "source": [
        "1. Standard: from 0 (black) to 255 (white) with 254 gray values in between."
      ]
    },
    {
      "cell_type": "markdown",
      "metadata": {
        "id": "xuCJ8AJDzr0e"
      },
      "source": [
        "![Fig. 4. Standard grayscale image](https://www.dropbox.com/s/mk70ili2yyb9con/graystan.jpg?raw=1)"
      ]
    },
    {
      "cell_type": "markdown",
      "metadata": {
        "id": "xdyN6Ob5zr0f"
      },
      "source": [
        "2. Normalised: from 0 (black) to 1 (white) with \"infinite\" gray values in between."
      ]
    },
    {
      "cell_type": "markdown",
      "metadata": {
        "id": "QWpwOod1zr0f"
      },
      "source": [
        "![Fig. 5. Normalised grayscale image](https://www.dropbox.com/s/qrt5j974q2adu9m/graynorm.jpg?raw=1)"
      ]
    },
    {
      "cell_type": "markdown",
      "metadata": {
        "id": "OFlu07WJzr0g"
      },
      "source": [
        "**IS IT POSSIBLE TO CONVERT BETWEEN STANDARD $\\leftrightarrow$ NORMALISED?**"
      ]
    },
    {
      "cell_type": "markdown",
      "metadata": {
        "id": "LOQw1C2Wzr0g"
      },
      "source": [
        "### Colour Images"
      ]
    },
    {
      "cell_type": "markdown",
      "metadata": {
        "id": "rIuvG3Ojzr0g"
      },
      "source": [
        "![Fig. 6. \"Pixelated\" colour image](https://www.dropbox.com/s/4rbrymh3dobhyi9/smile.jpg?raw=1)"
      ]
    },
    {
      "cell_type": "markdown",
      "metadata": {
        "id": "83SaSqrDzr0h"
      },
      "source": [
        "* Each pixel has three `channels`: $\\color{red}{red}$, $\\color{green}{green}$ and $\\color{blue}{blue}$"
      ]
    },
    {
      "cell_type": "markdown",
      "metadata": {
        "id": "IXuNG9d9zr0i"
      },
      "source": [
        "* Images with colour are often called $\\color{red}{R}$$\\color{green}{G}$$\\color{blue}{B}$ images"
      ]
    },
    {
      "cell_type": "markdown",
      "metadata": {
        "id": "3SScs8h6zr0i"
      },
      "source": [
        "#### Option 1"
      ]
    },
    {
      "cell_type": "markdown",
      "metadata": {
        "id": "jipsViq9zr0i"
      },
      "source": [
        "* If a colour image is imported, a matrix will be produced, this time with three values per pixel instead of one"
      ]
    },
    {
      "cell_type": "markdown",
      "metadata": {
        "id": "wjX5I0RZzr0j"
      },
      "source": [
        "* The three values will be stored in a tuple"
      ]
    },
    {
      "cell_type": "markdown",
      "metadata": {
        "id": "hQiETzFHzr0j"
      },
      "source": [
        "![Fig. 7. RGB image, option 1](https://www.dropbox.com/s/ohrcjtln8mvpa49/rgb.jpg?raw=1)"
      ]
    },
    {
      "cell_type": "markdown",
      "metadata": {
        "id": "d6fyPL3rzr0k"
      },
      "source": [
        "#### Option 2"
      ]
    },
    {
      "cell_type": "markdown",
      "metadata": {
        "id": "NBByhPyIzr0k"
      },
      "source": [
        "* When importing a colour image in `OpenCV`, a 3D array will be produced, with the third dimension representing the three channels"
      ]
    },
    {
      "cell_type": "markdown",
      "metadata": {
        "id": "YiRUtpb7zr0l"
      },
      "source": [
        "![Fig. 8. RGB image, option 2](https://www.dropbox.com/s/5eytedi8kqb01er/rgb2.jpg?raw=1)"
      ]
    },
    {
      "cell_type": "markdown",
      "metadata": {
        "id": "StBe6AvRzr0m"
      },
      "source": [
        "* Advantage of option 2: Faster to do calculations and transformations"
      ]
    },
    {
      "cell_type": "markdown",
      "metadata": {
        "id": "pcuVmEbNzr0m"
      },
      "source": [
        "**HOW MANY COLOURS CAN BE REPRESENTED USING THIS STANDARD?**"
      ]
    },
    {
      "cell_type": "markdown",
      "metadata": {
        "id": "i20Wahoxzr0m"
      },
      "source": [
        "**CAN RGB BE NORMALISED?**"
      ]
    },
    {
      "cell_type": "markdown",
      "metadata": {
        "id": "X2W9ALZBzr0m"
      },
      "source": [
        "**ARE THERE ANY OTHER STANDARDS THAT CAN REPRESENT MORE COLOURS?**"
      ]
    },
    {
      "cell_type": "markdown",
      "metadata": {
        "id": "1ShlnciEzr0m"
      },
      "source": [
        "## Machine Learning"
      ]
    },
    {
      "cell_type": "markdown",
      "metadata": {
        "id": "9p6a_KQrzr0m"
      },
      "source": [
        "* Machine learning: An automatic function that maps $x \\rightarrow y$ based on the input data"
      ]
    },
    {
      "cell_type": "markdown",
      "metadata": {
        "id": "OqNr40m8zr0m"
      },
      "source": [
        "![Fig. 9. Fundamentals of Machine Learning](https://www.dropbox.com/s/shrjabuib4m7nf5/ml.jpg?raw=1)"
      ]
    },
    {
      "cell_type": "markdown",
      "metadata": {
        "id": "XkXNs3GNzr0m"
      },
      "source": [
        "### Types of Machine Learning"
      ]
    },
    {
      "cell_type": "markdown",
      "metadata": {
        "id": "cKKeNCA_zr0n"
      },
      "source": [
        "#### Supervised Learning"
      ]
    },
    {
      "cell_type": "markdown",
      "metadata": {
        "id": "QBZ6OAXNzr0n"
      },
      "source": [
        "* Aims to learn a function that, given a sample of data and desired outputs, approximates a function that maps inputs to output"
      ]
    },
    {
      "cell_type": "markdown",
      "metadata": {
        "id": "LGSoVHZczr0n"
      },
      "source": [
        "* Done in the context of **classification** (when mapping input to output label) or **regression** (when mapping input to continuous output)"
      ]
    },
    {
      "cell_type": "markdown",
      "metadata": {
        "id": "BUgkNbnBzr0n"
      },
      "source": [
        "* The \"correct\" output will be deduced from the `training` data, therefore the model requires a reliable base"
      ]
    },
    {
      "cell_type": "markdown",
      "metadata": {
        "id": "DAyUid9yzr0n"
      },
      "source": [
        "##### Examples of Supervised Learning Algorithms"
      ]
    },
    {
      "cell_type": "markdown",
      "metadata": {
        "id": "CfHsEqKxzr0n"
      },
      "source": [
        "###### Regression"
      ]
    },
    {
      "cell_type": "markdown",
      "metadata": {
        "id": "XfOX_22Qzr0n"
      },
      "source": [
        "* The simplest ML out there! A line (or curve) that adapts to the data points and tries to do a prediction based on the existing data and how it adapts to a mathematical function"
      ]
    },
    {
      "cell_type": "markdown",
      "metadata": {
        "id": "MkI0Nmyuzr0n"
      },
      "source": [
        "![Fig. 10. Linear Regression](https://www.dropbox.com/scl/fi/f2988tk32wb5vpecgk4bu/lr.png?rlkey=3qzrrifvdiimzqcd1iudnyvhv&raw=1)[Source](https://realpython.com/linear-regression-in-python/)"
      ]
    },
    {
      "cell_type": "markdown",
      "metadata": {
        "id": "Sl04a_Nzzr0n"
      },
      "source": [
        "* There's a version called logistic regression which uses a probability curve, which in turn can be adapted for binary classification!"
      ]
    },
    {
      "cell_type": "markdown",
      "metadata": {
        "id": "FPZHhr1-zr0n"
      },
      "source": [
        "![Fig. 11. Logistic Regression](https://www.dropbox.com/scl/fi/sfjlsxrruvus2vboiezzh/logr.png?rlkey=6wzansi3caaqb8gd362uhzep7&raw=1)[Source](https://www.natasshaselvaraj.com/logistic-regression-explained-in-7-minutes/)"
      ]
    },
    {
      "cell_type": "markdown",
      "metadata": {
        "id": "zF-YXk7Gzr0n"
      },
      "source": [
        "* Also very simple code to implement"
      ]
    },
    {
      "cell_type": "code",
      "execution_count": null,
      "metadata": {
        "colab": {
          "base_uri": "https://localhost:8080/",
          "height": 430
        },
        "id": "zPOPotvizr0o",
        "outputId": "c60c81fa-bd9e-4670-9e8b-fc42ca824721"
      },
      "outputs": [
        {
          "output_type": "display_data",
          "data": {
            "text/plain": [
              "<Figure size 640x480 with 1 Axes>"
            ],
            "image/png": "[encoded data removed]"
          },
          "metadata": {}
        }
      ],
      "source": [
        "# Source: https://www.w3schools.com/python/python_ml_linear_regression.asp\n",
        "\n",
        "import matplotlib.pyplot as plt\n",
        "from scipy import stats\n",
        "\n",
        "x = [4, 5, 10, 4, 3, 11, 14 , 8, 10, 12]\n",
        "y = [21, 19, 24, 17, 16, 25, 24, 22, 21, 21]\n",
        "\n",
        "# This is the lin reg, one line of code!\n",
        "slope, intercept, r, p, std_err = stats.linregress(x, y)\n",
        "\n",
        "def myfunc(x):\n",
        "  return slope * x + intercept\n",
        "\n",
        "mymodel = list(map(myfunc, x))\n",
        "\n",
        "plt.scatter(x, y, color='red')\n",
        "plt.plot(x, mymodel)\n",
        "plt.show()"
      ]
    },
    {
      "cell_type": "markdown",
      "metadata": {
        "id": "HAcQjVvKzr0p"
      },
      "source": [
        "###### K Nearest Neighbours"
      ]
    },
    {
      "cell_type": "markdown",
      "metadata": {
        "id": "mNvsLSjfzr0p"
      },
      "source": [
        "* Classify by a majority vote of neighbours"
      ]
    },
    {
      "cell_type": "markdown",
      "metadata": {
        "id": "OQpg9jHnzr0q"
      },
      "source": [
        "* Advantages: Simple to implement, robust to noisy training data, and effective if training data is large"
      ]
    },
    {
      "cell_type": "markdown",
      "metadata": {
        "id": "MyG5f3qKzr0q"
      },
      "source": [
        "* Disadvantages: Need to determine the value of K computation cost is high"
      ]
    },
    {
      "cell_type": "markdown",
      "metadata": {
        "id": "TdNt9n7tzr0q"
      },
      "source": [
        "![Fig. 12. KNN](https://www.dropbox.com/scl/fi/s6thzhm8tiyiuu4vi8edt/knn.png?rlkey=9z16d09jjumei8atwjta4p1ep&raw=1)"
      ]
    },
    {
      "cell_type": "markdown",
      "metadata": {
        "id": "z26G6yaOzr0q"
      },
      "source": [
        "It's like playing darts/curling. Your training data are the stars and triangles, and your test data are the ?. Every time a new data point comes it gets thrown to the board and it gets classified according to the neighbours. The problem is the disparity you have with different k values. Use it when there's not much to \"learn\" from your data!"
      ]
    },
    {
      "cell_type": "code",
      "execution_count": null,
      "metadata": {
        "colab": {
          "base_uri": "https://localhost:8080/",
          "height": 430
        },
        "id": "CxHDvVmQzr0q",
        "outputId": "7223a879-0b58-4dc4-8b26-8b955de1ce57"
      },
      "outputs": [
        {
          "output_type": "display_data",
          "data": {
            "text/plain": [
              "<Figure size 640x480 with 1 Axes>"
            ],
            "image/png": "[encoded data removed]"
          },
          "metadata": {}
        }
      ],
      "source": [
        "# Source: https://www.w3schools.com/python/python_ml_knn.asp\n",
        "\n",
        "import matplotlib.pyplot as plt\n",
        "from sklearn.neighbors import KNeighborsClassifier\n",
        "\n",
        "classes = [0, 0, 1, 0, 0, 1, 1, 0, 1, 1]\n",
        "data = list(zip(x, y))\n",
        "\n",
        "# Two lines of code to declare and \"fit\" the model!\n",
        "knn = KNeighborsClassifier(n_neighbors=1)\n",
        "knn.fit(data, classes)\n",
        "\n",
        "# Test it\n",
        "new_x = 8\n",
        "new_y = 21\n",
        "\n",
        "new_point = [(new_x, new_y)]\n",
        "prediction = knn.predict(new_point)\n",
        "plt.scatter(x + [new_x], y + [new_y], c=classes + [prediction[0]])\n",
        "plt.text(x=new_x-1.7, y=new_y-0.7, s=f\"new point, class: {prediction[0]}\")\n",
        "plt.show()"
      ]
    },
    {
      "cell_type": "code",
      "source": [
        "# Source: https://www.w3schools.com/python/python_ml_knn.asp\n",
        "\n",
        "import matplotlib.pyplot as plt\n",
        "from sklearn.neighbors import KNeighborsClassifier\n",
        "\n",
        "classes = [0, 0, 1, 0, 0, 1, 1, 0, 1, 1]\n",
        "data = list(zip(x, y))\n",
        "\n",
        "# Two lines of code to declare and \"fit\" the model!\n",
        "knn = KNeighborsClassifier(n_neighbors=5) # if you change to 5, class changes!\n",
        "knn.fit(data, classes)\n",
        "\n",
        "# Test it\n",
        "new_x = 8\n",
        "new_y = 21\n",
        "\n",
        "new_point = [(new_x, new_y)]\n",
        "prediction = knn.predict(new_point)\n",
        "plt.scatter(x + [new_x], y + [new_y], c=classes + [prediction[0]])\n",
        "plt.text(x=new_x-1.7, y=new_y-0.7, s=f\"new point, class: {prediction[0]}\")\n",
        "plt.show()"
      ],
      "metadata": {
        "colab": {
          "base_uri": "https://localhost:8080/",
          "height": 430
        },
        "id": "JvD0cOT4z9GA",
        "outputId": "511643bf-5952-4067-cc9a-8c2cd7fb21d7"
      },
      "execution_count": null,
      "outputs": [
        {
          "output_type": "display_data",
          "data": {
            "text/plain": [
              "<Figure size 640x480 with 1 Axes>"
            ],
            "image/png": "[encoded data removed]"
          },
          "metadata": {}
        }
      ]
    },
    {
      "cell_type": "markdown",
      "metadata": {
        "id": "Otfe0gnTzr0r"
      },
      "source": [
        "###### Decision Tree/Random Forest"
      ]
    },
    {
      "cell_type": "markdown",
      "metadata": {
        "id": "qcJMGiQAzr0r"
      },
      "source": [
        "* Segment the predictor space into multiple regions"
      ]
    },
    {
      "cell_type": "markdown",
      "metadata": {
        "id": "wUe9vRn-zr0r"
      },
      "source": [
        "* Each region has only a subset of the training dataset"
      ]
    },
    {
      "cell_type": "markdown",
      "metadata": {
        "id": "vFWCO6sxzr0r"
      },
      "source": [
        "* High variance $\\rightarrow$ Small changes in the training data can give an entirely different decision tree model"
      ]
    },
    {
      "cell_type": "markdown",
      "metadata": {
        "id": "IsnfzYnqzr0s"
      },
      "source": [
        "![Fig. 13. Decision Tree](https://www.dropbox.com/scl/fi/681vx0ksis80zfbklc2fq/dn.jpg?rlkey=7813zye213svr0f6lwdjz80nc&raw=1)"
      ]
    },
    {
      "cell_type": "markdown",
      "metadata": {
        "id": "BOMIEebAzr0s"
      },
      "source": [
        "The key aspect is that a person can be fit under 30 and not eating lots of pizza OR over 30 and excercising in the morning (two different sets of people). When you need multiple iterations or attempts, you create various trees which in turn generate a Random Forest!"
      ]
    },
    {
      "cell_type": "code",
      "execution_count": null,
      "metadata": {
        "colab": {
          "base_uri": "https://localhost:8080/",
          "height": 745
        },
        "id": "9J60toy5zr0s",
        "outputId": "fdc26f92-55d6-4355-eb2a-66640cfc511c"
      },
      "outputs": [
        {
          "output_type": "execute_result",
          "data": {
            "text/plain": [
              "[Text(0.5, 0.9166666666666666, 'x[2] <= 2.45\\ngini = 0.667\\nsamples = 150\\nvalue = [50, 50, 50]'),\n",
              " Text(0.4230769230769231, 0.75, 'gini = 0.0\\nsamples = 50\\nvalue = [50, 0, 0]'),\n",
              " Text(0.46153846153846156, 0.8333333333333333, 'True  '),\n",
              " Text(0.5769230769230769, 0.75, 'x[3] <= 1.75\\ngini = 0.5\\nsamples = 100\\nvalue = [0, 50, 50]'),\n",
              " Text(0.5384615384615384, 0.8333333333333333, '  False'),\n",
              " Text(0.3076923076923077, 0.5833333333333334, 'x[2] <= 4.95\\ngini = 0.168\\nsamples = 54\\nvalue = [0, 49, 5]'),\n",
              " Text(0.15384615384615385, 0.4166666666666667, 'x[3] <= 1.65\\ngini = 0.041\\nsamples = 48\\nvalue = [0, 47, 1]'),\n",
              " Text(0.07692307692307693, 0.25, 'gini = 0.0\\nsamples = 47\\nvalue = [0, 47, 0]'),\n",
              " Text(0.23076923076923078, 0.25, 'gini = 0.0\\nsamples = 1\\nvalue = [0, 0, 1]'),\n",
              " Text(0.46153846153846156, 0.4166666666666667, 'x[3] <= 1.55\\ngini = 0.444\\nsamples = 6\\nvalue = [0, 2, 4]'),\n",
              " Text(0.38461538461538464, 0.25, 'gini = 0.0\\nsamples = 3\\nvalue = [0, 0, 3]'),\n",
              " Text(0.5384615384615384, 0.25, 'x[2] <= 5.45\\ngini = 0.444\\nsamples = 3\\nvalue = [0, 2, 1]'),\n",
              " Text(0.46153846153846156, 0.08333333333333333, 'gini = 0.0\\nsamples = 2\\nvalue = [0, 2, 0]'),\n",
              " Text(0.6153846153846154, 0.08333333333333333, 'gini = 0.0\\nsamples = 1\\nvalue = [0, 0, 1]'),\n",
              " Text(0.8461538461538461, 0.5833333333333334, 'x[2] <= 4.85\\ngini = 0.043\\nsamples = 46\\nvalue = [0, 1, 45]'),\n",
              " Text(0.7692307692307693, 0.4166666666666667, 'x[1] <= 3.1\\ngini = 0.444\\nsamples = 3\\nvalue = [0, 1, 2]'),\n",
              " Text(0.6923076923076923, 0.25, 'gini = 0.0\\nsamples = 2\\nvalue = [0, 0, 2]'),\n",
              " Text(0.8461538461538461, 0.25, 'gini = 0.0\\nsamples = 1\\nvalue = [0, 1, 0]'),\n",
              " Text(0.9230769230769231, 0.4166666666666667, 'gini = 0.0\\nsamples = 43\\nvalue = [0, 0, 43]')]"
            ]
          },
          "metadata": {},
          "execution_count": 5
        },
        {
          "output_type": "display_data",
          "data": {
            "text/plain": [
              "<Figure size 640x480 with 1 Axes>"
            ],
            "image/png": "[encoded data removed]"
          },
          "metadata": {}
        }
      ],
      "source": [
        "# Source: https://scikit-learn.org/stable/modules/tree.html\n",
        "\n",
        "from sklearn.datasets import load_iris\n",
        "from sklearn import tree\n",
        "\n",
        "iris = load_iris()\n",
        "X, Y = iris.data, iris.target\n",
        "\n",
        "## Again, classifier is just two lines of code\n",
        "clf = tree.DecisionTreeClassifier()\n",
        "clf = clf.fit(X, Y)\n",
        "\n",
        "# You can even visualise the tree\n",
        "tree.plot_tree(clf)"
      ]
    },
    {
      "cell_type": "markdown",
      "metadata": {
        "id": "vBjEOw6Pzr0s"
      },
      "source": [
        "###### Naive Bayes"
      ]
    },
    {
      "cell_type": "markdown",
      "metadata": {
        "id": "HBchZXmjzr0t"
      },
      "source": [
        "* Probabilistic classifier inspired by the Bayes theorem, assumes attributes are conditionally independent"
      ]
    },
    {
      "cell_type": "markdown",
      "metadata": {
        "id": "FcNgYtZdzr0t"
      },
      "source": [
        "* Advantages: small amount of training data required, extremely fast"
      ]
    },
    {
      "cell_type": "markdown",
      "metadata": {
        "id": "P03fXXg9zr0t"
      },
      "source": [
        "* Disadvantages: zero probability problem, if the conditional probability is zero for a particular attribute..."
      ]
    },
    {
      "cell_type": "markdown",
      "metadata": {
        "id": "mWr-8We8zr0t"
      },
      "source": [
        "![Fig. 14. NB](https://www.dropbox.com/scl/fi/83t7ybqo9w5emn6jgvx26/nb.png?rlkey=g54otgerssy98hg30y3qd6h49&raw=1)"
      ]
    },
    {
      "cell_type": "code",
      "execution_count": null,
      "metadata": {
        "colab": {
          "base_uri": "https://localhost:8080/"
        },
        "id": "-MNeYDx8zr0t",
        "outputId": "d8146b9f-ffb4-41dd-bb98-d4531ad416db"
      },
      "outputs": [
        {
          "output_type": "stream",
          "name": "stdout",
          "text": [
            "[2 0 1 2 2 0 0 1 1 1 2 0 0 0 2 0 2 0 0 0 1 1 0]\n"
          ]
        }
      ],
      "source": [
        "# Source: https://www.kaggle.com/code/nizamudma/iris-data-classification-using-naive-bayes\n",
        "\n",
        "from sklearn.model_selection import train_test_split\n",
        "from sklearn.naive_bayes import GaussianNB\n",
        "\n",
        "#split data for train and test\n",
        "x_train,x_test,y_train,y_test=train_test_split(X,Y,test_size=0.15)\n",
        "\n",
        "# No surpise, two lines\n",
        "bc=GaussianNB()\n",
        "bc.fit(x_train,y_train)\n",
        "\n",
        "# Predict samples from the text set\n",
        "print(bc.predict(x_test))"
      ]
    },
    {
      "cell_type": "markdown",
      "metadata": {
        "id": "QQcZ-j-rzr0u"
      },
      "source": [
        "###### Support Vector Machine (SVM)"
      ]
    },
    {
      "cell_type": "markdown",
      "metadata": {
        "id": "8NX8IIbPzr0u"
      },
      "source": [
        "* Discriminative classifier defined by a separating hyperplane"
      ]
    },
    {
      "cell_type": "markdown",
      "metadata": {
        "id": "wyoEly0gzr0u"
      },
      "source": [
        "* Tuning parameters in SVM classifier\n",
        "    * Kernel - transformation method, e.g. Polynomial and exponential kernels\n",
        "    * Regularisation - how much to avoid misclassifying each training example\n",
        "    * Gamma - how far the influence of a single training example reaches, high gamma → only nearby examples"
      ]
    },
    {
      "cell_type": "markdown",
      "metadata": {
        "id": "f--EDJk0zr0v"
      },
      "source": [
        "* A margin in SVM is a separation of line to the closest class points\n",
        "    * A good margin is one where this separation is larger for both the classes"
      ]
    },
    {
      "cell_type": "markdown",
      "metadata": {
        "id": "gD1LdxD6zr0v"
      },
      "source": [
        "![Fig. 15. SVM](https://www.dropbox.com/scl/fi/risnrcss13j0qyb5w84si/svm.png?rlkey=9uxvubuwiptvqaoymr8nm2ohc&raw=1)"
      ]
    },
    {
      "cell_type": "markdown",
      "metadata": {
        "id": "T2cSXl-pzr0v"
      },
      "source": [
        "* We will do this one in Lab Topic 5! But trust me, again it is two lines of code..."
      ]
    },
    {
      "cell_type": "markdown",
      "metadata": {
        "id": "RCtJTvAGzr0v"
      },
      "source": [
        "###### Neural Network (NN)"
      ]
    },
    {
      "cell_type": "markdown",
      "metadata": {
        "id": "HUJ2wVP7zr0w"
      },
      "source": [
        "We will talk **EXTENSIVELY** about them later on"
      ]
    },
    {
      "cell_type": "markdown",
      "metadata": {
        "id": "z1CpD7Xmzr0x"
      },
      "source": [
        "![Fig. 16. NN](https://www.dropbox.com/scl/fi/kq536qoo6xoqkvl8exuy3/nn.png?rlkey=s4tx5gzg74xbqajhscddoqi1r&raw=1)"
      ]
    },
    {
      "cell_type": "markdown",
      "metadata": {
        "id": "duPrq5PNzr0x"
      },
      "source": [
        "![Fig. 17. Tradeoff](https://www.dropbox.com/scl/fi/0i0i56m9euztqwl2wikdf/accvsinter.png?rlkey=vbjwev6t1228cebp59dara3gd&raw=1)"
      ]
    },
    {
      "cell_type": "markdown",
      "metadata": {
        "id": "oFMLrS-Tzr0x"
      },
      "source": [
        "#### Semi-supervised Learning"
      ]
    },
    {
      "cell_type": "markdown",
      "metadata": {
        "id": "uqLkqQzzzr0x"
      },
      "source": [
        "* Aims to label unlabelled data points using knowledge learned from a small number of labelled data points"
      ]
    },
    {
      "cell_type": "markdown",
      "metadata": {
        "id": "6IMhfqYRzr0y"
      },
      "source": [
        "* Learning with both unlabelled and labeled data points"
      ]
    },
    {
      "cell_type": "markdown",
      "metadata": {
        "id": "lhK4Em7dzr0y"
      },
      "source": [
        "* Used when large amounts of data are costly to label"
      ]
    },
    {
      "cell_type": "markdown",
      "metadata": {
        "id": "jYNvGo5yzr0y"
      },
      "source": [
        "##### Assumptions of Semi-supervised Learning"
      ]
    },
    {
      "cell_type": "markdown",
      "metadata": {
        "id": "4fP-McPKzr0y"
      },
      "source": [
        "* `Continuity`: Data points that are \"close\" have a common label"
      ]
    },
    {
      "cell_type": "markdown",
      "metadata": {
        "id": "gIVwPqEvzr0y"
      },
      "source": [
        "* `Cluster`: Data naturally forms discrete clusters, most common to share label"
      ]
    },
    {
      "cell_type": "markdown",
      "metadata": {
        "id": "4NeTirf9zr0y"
      },
      "source": [
        "* `Manifold`: Data lies in a lower dimensional space than the input space"
      ]
    },
    {
      "cell_type": "markdown",
      "metadata": {
        "id": "oHnF0DDgzr0y"
      },
      "source": [
        "##### Examples of Semi-supervised Learning Algorithms"
      ]
    },
    {
      "cell_type": "markdown",
      "metadata": {
        "id": "Zo_ntyPbzr0y"
      },
      "source": [
        "###### Transductive SVM"
      ]
    },
    {
      "cell_type": "markdown",
      "metadata": {
        "id": "PTYS32Otzr0y"
      },
      "source": [
        "###### Label Propagation"
      ]
    },
    {
      "cell_type": "markdown",
      "metadata": {
        "id": "8Lhee-4lzr0y"
      },
      "source": [
        "#### Unsupervised Learning"
      ]
    },
    {
      "cell_type": "markdown",
      "metadata": {
        "id": "0MM_exV1zr0z"
      },
      "source": [
        "* Does not have (or need) any labelled outputs, so its goal is to infer the natural structure present within a set of data points"
      ]
    },
    {
      "cell_type": "markdown",
      "metadata": {
        "id": "RG_sGZWbzr0z"
      },
      "source": [
        "* Finds inherent patterns of data"
      ]
    },
    {
      "cell_type": "markdown",
      "metadata": {
        "id": "r6NhJSc8zr0z"
      },
      "source": [
        "* Most common tasks: **clustering** and **exploratory data analysis**"
      ]
    },
    {
      "cell_type": "markdown",
      "metadata": {
        "id": "5bDElVL1zr0z"
      },
      "source": [
        "##### Examples of Unsupervised Learning Algorithms"
      ]
    },
    {
      "cell_type": "markdown",
      "metadata": {
        "id": "PF7CDGe0zr0z"
      },
      "source": [
        "###### K-means Clustering"
      ]
    },
    {
      "cell_type": "markdown",
      "metadata": {
        "id": "6YiU4Ym4zr0z"
      },
      "source": [
        "###### Principal Component Analysis (PCA)"
      ]
    },
    {
      "cell_type": "markdown",
      "metadata": {
        "id": "OzMBSZ2jzr0z"
      },
      "source": [
        "###### Autoencoders"
      ]
    },
    {
      "cell_type": "markdown",
      "metadata": {
        "id": "zFilZKXozr0z"
      },
      "source": [
        "### A simpler explanation of what I just said"
      ]
    },
    {
      "cell_type": "code",
      "execution_count": null,
      "metadata": {
        "scrolled": true,
        "colab": {
          "base_uri": "https://localhost:8080/",
          "height": 336
        },
        "id": "676quD7tzr0z",
        "outputId": "672290e0-102d-4c72-d386-7a5148b79186"
      },
      "outputs": [
        {
          "output_type": "execute_result",
          "data": {
            "text/plain": [
              "<IPython.core.display.HTML object>"
            ],
            "text/html": [
              "<iframe width=\"560\" height=\"315\" src=\"https://www.youtube.com/embed/R9OHn5ZF4Uo\" frameborder=\"0\" allow=\"accelerometer; autoplay; clipboard-write; encrypted-media; gyroscope; picture-in-picture\" allowfullscreen></iframe>"
            ]
          },
          "metadata": {},
          "execution_count": 7
        }
      ],
      "source": [
        "import warnings\n",
        "warnings.filterwarnings('ignore')\n",
        "from IPython.display import HTML\n",
        "HTML('<iframe width=\"560\" height=\"315\" src=\"https://www.youtube.com/embed/R9OHn5ZF4Uo\" frameborder=\"0\" allow=\"accelerometer; autoplay; clipboard-write; encrypted-media; gyroscope; picture-in-picture\" allowfullscreen></iframe>')"
      ]
    },
    {
      "cell_type": "markdown",
      "metadata": {
        "id": "M9G6L4I5zr00"
      },
      "source": [
        "As you can see, we can do more things beyond classification, such as **detecting** where the object lies in the image, **recognise** it from a pool of similar objects, **segment** where it is or even **track** it in a video feed!"
      ]
    },
    {
      "cell_type": "markdown",
      "metadata": {
        "id": "ugRn1CLozr00"
      },
      "source": [
        "# LAB 3: IMPORTING AND MANIPULATING IMAGES IN PYTHON"
      ]
    }
  ],
  "metadata": {
    "celltoolbar": "Slideshow",
    "hide_input": false,
    "kernelspec": {
      "display_name": "Python 3 (ipykernel)",
      "language": "python",
      "name": "python3"
    },
    "language_info": {
      "codemirror_mode": {
        "name": "ipython",
        "version": 3
      },
      "file_extension": ".py",
      "mimetype": "text/x-python",
      "name": "python",
      "nbconvert_exporter": "python",
      "pygments_lexer": "ipython3",
      "version": "3.11.3"
    },
    "rise": {
      "backimage": "../mybackimage.png",
      "enable_chalkboard": true,
      "scroll": true
    },
    "varInspector": {
      "cols": {
        "lenName": 16,
        "lenType": 16,
        "lenVar": 40
      },
      "kernels_config": {
        "python": {
          "delete_cmd_postfix": "",
          "delete_cmd_prefix": "del ",
          "library": "var_list.py",
          "varRefreshCmd": "print(var_dic_list())"
        },
        "r": {
          "delete_cmd_postfix": ") ",
          "delete_cmd_prefix": "rm(",
          "library": "var_list.r",
          "varRefreshCmd": "cat(var_dic_list()) "
        }
      },
      "types_to_exclude": [
        "module",
        "function",
        "builtin_function_or_method",
        "instance",
        "_Feature"
      ],
      "window_display": false
    },
    "colab": {
      "provenance": [],
      "include_colab_link": true
    }
  },
  "nbformat": 4,
  "nbformat_minor": 0
}