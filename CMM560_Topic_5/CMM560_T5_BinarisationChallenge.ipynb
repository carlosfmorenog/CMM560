{
  "cells": [
    {
      "cell_type": "markdown",
      "metadata": {
        "id": "view-in-github",
        "colab_type": "text"
      },
      "source": [
        "<a href=\"https://colab.research.google.com/github/carlosfmorenog/CMM560/blob/main/CMM560_Topic_5/CMM560_T5_BinarisationChallenge.ipynb\" target=\"_parent\"><img src=\"https://colab.research.google.com/assets/colab-badge.svg\" alt=\"Open In Colab\"/></a>"
      ]
    },
    {
      "cell_type": "markdown",
      "metadata": {
        "id": "d7NTbMM4xXBk"
      },
      "source": [
        "# Topic 5 Binarisation Challenge (Bonus)"
      ]
    },
    {
      "cell_type": "markdown",
      "metadata": {
        "id": "_czyHYcCxXBp"
      },
      "source": [
        "This is my proposal to solve the challenge, doing it in two steps:\n",
        "1. Define a binarisation function which turns near-white pixels to full white. This will turn all the background into 255 values.\n",
        "2. Define an inverse binarisation function which ignores white (255) pixels. This will turn near-white pixels into black (i.e. the Python we want to keep) and darker pixels (i.e. the Python we want to disappear) into white, merging it with the background"
      ]
    },
    {
      "cell_type": "code",
      "source": [
        "# get the image from my dropbox (yet another way to load data to an online notebook!)\n",
        "!wget -O logo.png https://www.dropbox.com/s/6qm9qr46zd1uqgr/logo.png?raw=1"
      ],
      "metadata": {
        "colab": {
          "base_uri": "https://localhost:8080/"
        },
        "id": "YgPF_x-OxaVp",
        "outputId": "f0bee5e4-74c8-4721-eed6-214fc8ff0af2"
      },
      "execution_count": null,
      "outputs": [
        {
          "output_type": "stream",
          "name": "stdout",
          "text": [
            "--2024-07-23 10:53:29--  https://www.dropbox.com/s/6qm9qr46zd1uqgr/logo.png?raw=1\n",
            "Resolving www.dropbox.com (www.dropbox.com)... 162.125.3.18, 2620:100:601c:18::a27d:612\n",
            "Connecting to www.dropbox.com (www.dropbox.com)|162.125.3.18|:443... connected.\n",
            "HTTP request sent, awaiting response... 302 Found\n",
            "Location: https://www.dropbox.com/scl/fi/uduhlkpmrmabyf7skbdyk/logo.png?rlkey=fb0fywpbcz7yotvwxkuija1u1&raw=1 [following]\n",
            "--2024-07-23 10:53:29--  https://www.dropbox.com/scl/fi/uduhlkpmrmabyf7skbdyk/logo.png?rlkey=fb0fywpbcz7yotvwxkuija1u1&raw=1\n",
            "Reusing existing connection to www.dropbox.com:443.\n",
            "HTTP request sent, awaiting response... 302 Found\n",
            "Location: https://uce566b88b8a7bfba9f2a042790d.dl.dropboxusercontent.com/cd/0/inline/CXMArGH9eXUCc3mLstWH9cTvRleyArSa4RU0a1MEufY_ce1WM_KqqvzqGAnICnDjAUvHDTNZB7u4gY-urXjocxpNs1GC_4F9vEMm_uvtLfU_GilQdeZNguTjQAAcTAa7s4DqK-2tPN2bp-j_e3LnOiTn/file# [following]\n",
            "--2024-07-23 10:53:30--  https://uce566b88b8a7bfba9f2a042790d.dl.dropboxusercontent.com/cd/0/inline/CXMArGH9eXUCc3mLstWH9cTvRleyArSa4RU0a1MEufY_ce1WM_KqqvzqGAnICnDjAUvHDTNZB7u4gY-urXjocxpNs1GC_4F9vEMm_uvtLfU_GilQdeZNguTjQAAcTAa7s4DqK-2tPN2bp-j_e3LnOiTn/file\n",
            "Resolving uce566b88b8a7bfba9f2a042790d.dl.dropboxusercontent.com (uce566b88b8a7bfba9f2a042790d.dl.dropboxusercontent.com)... 162.125.3.15, 2620:100:6018:15::a27d:30f\n",
            "Connecting to uce566b88b8a7bfba9f2a042790d.dl.dropboxusercontent.com (uce566b88b8a7bfba9f2a042790d.dl.dropboxusercontent.com)|162.125.3.15|:443... connected.\n",
            "HTTP request sent, awaiting response... 200 OK\n",
            "Length: 1845 (1.8K) [image/png]\n",
            "Saving to: ‘logo.png’\n",
            "\n",
            "logo.png            100%[===================>]   1.80K  --.-KB/s    in 0s      \n",
            "\n",
            "2024-07-23 10:53:30 (1.04 GB/s) - ‘logo.png’ saved [1845/1845]\n",
            "\n"
          ]
        }
      ]
    },
    {
      "cell_type": "code",
      "execution_count": null,
      "metadata": {
        "id": "KImerpyTxXBr"
      },
      "outputs": [],
      "source": [
        "import cv2\n",
        "import matplotlib.pyplot as plt\n",
        "\n",
        "def binarise_w(img, threshold):\n",
        "    img_bin = img.copy()\n",
        "    for x in range(img.shape[0]):\n",
        "        for y in range(img.shape[1]):\n",
        "            if img[x,y]>threshold:\n",
        "                img_bin[x,y]=255\n",
        "    plt.imshow(img_bin, cmap='Greys_r')\n",
        "    return img_bin\n",
        "\n",
        "def binarise_inv_nowhite(img, threshold):\n",
        "    img_bin = img.copy()\n",
        "    for x in range(img.shape[0]):\n",
        "        for y in range(img.shape[1]):\n",
        "            if img[x,y]!=255:\n",
        "                if img[x,y]>threshold:\n",
        "                    img_bin[x,y]=0\n",
        "                else:\n",
        "                    img_bin[x,y]=255\n",
        "    plt.imshow(img_bin, cmap='Greys_r')\n",
        "    return img_bin\n"
      ]
    },
    {
      "cell_type": "code",
      "execution_count": null,
      "metadata": {
        "colab": {
          "base_uri": "https://localhost:8080/",
          "height": 451
        },
        "id": "g-7DbDk6xXBv",
        "outputId": "e8a26698-5de5-4165-f4a0-306eb3af81ce"
      },
      "outputs": [
        {
          "output_type": "execute_result",
          "data": {
            "text/plain": [
              "<matplotlib.image.AxesImage at 0x7c787c8b6e90>"
            ]
          },
          "metadata": {},
          "execution_count": 3
        },
        {
          "output_type": "display_data",
          "data": {
            "text/plain": [
              "<Figure size 640x480 with 1 Axes>"
            ],
            "image/png": "[encoded data removed]"
          },
          "metadata": {}
        }
      ],
      "source": [
        "# Load and print the image\n",
        "img = cv2.imread(\"/content/logo.png\",0)\n",
        "plt.imshow(img, cmap='Greys_r')"
      ]
    },
    {
      "cell_type": "code",
      "execution_count": null,
      "metadata": {
        "colab": {
          "base_uri": "https://localhost:8080/",
          "height": 433
        },
        "id": "TDOiXWCtxXBx",
        "outputId": "373d95df-0f3e-48a1-c857-3575f9c46245"
      },
      "outputs": [
        {
          "output_type": "display_data",
          "data": {
            "text/plain": [
              "<Figure size 640x480 with 1 Axes>"
            ],
            "image/png": "[encoded data removed]"
          },
          "metadata": {}
        }
      ],
      "source": [
        "# I first run the original binarisation function to turn the background white\n",
        "# You can see that the edges of the light grey python have changed\n",
        "img_bin = binarise_w(img, 215)"
      ]
    },
    {
      "cell_type": "code",
      "execution_count": null,
      "metadata": {
        "colab": {
          "base_uri": "https://localhost:8080/",
          "height": 433
        },
        "id": "Yu7IAF84xXBy",
        "outputId": "72b8287a-07a4-42c0-b34b-686248815e5a"
      },
      "outputs": [
        {
          "output_type": "display_data",
          "data": {
            "text/plain": [
              "<Figure size 640x480 with 1 Axes>"
            ],
            "image/png": "[encoded data removed]"
          },
          "metadata": {}
        }
      ],
      "source": [
        "# Then I run the new binarisation function to convert the lighter python into a dark one\n",
        "img_bin = binarise_inv_nowhite(img_bin, 200)"
      ]
    },
    {
      "cell_type": "markdown",
      "metadata": {
        "id": "9ujSijPSxXB0"
      },
      "source": [
        "Note that I could use a morphology operation (as the ones seen in class) to improve the result"
      ]
    },
    {
      "cell_type": "code",
      "execution_count": null,
      "metadata": {
        "colab": {
          "base_uri": "https://localhost:8080/",
          "height": 451
        },
        "id": "-41O_mxBxXB1",
        "outputId": "d8ae29dd-bfeb-429b-bd95-3c4e682c781e"
      },
      "outputs": [
        {
          "output_type": "execute_result",
          "data": {
            "text/plain": [
              "<matplotlib.image.AxesImage at 0x7c784c4e3fd0>"
            ]
          },
          "metadata": {},
          "execution_count": 6
        },
        {
          "output_type": "display_data",
          "data": {
            "text/plain": [
              "<Figure size 640x480 with 1 Axes>"
            ],
            "image/png": "[encoded data removed]"
          },
          "metadata": {}
        }
      ],
      "source": [
        "# You can change the values of the structuring element to obtain different results\n",
        "opening = cv2.morphologyEx(img_bin, cv2.MORPH_OPEN, cv2.getStructuringElement(cv2.MORPH_CROSS,(2,2)))\n",
        "plt.imshow(opening, cmap='Greys_r')"
      ]
    },
    {
      "cell_type": "markdown",
      "metadata": {
        "id": "Ux6sDYxoxXB3"
      },
      "source": [
        "You can find more information on how to apply morphological operations in Python [here](https://docs.opencv.org/4.x/d9/d61/tutorial_py_morphological_ops.html)"
      ]
    }
  ],
  "metadata": {
    "hide_input": false,
    "kernelspec": {
      "display_name": "Python 3",
      "language": "python",
      "name": "python3"
    },
    "language_info": {
      "codemirror_mode": {
        "name": "ipython",
        "version": 3
      },
      "file_extension": ".py",
      "mimetype": "text/x-python",
      "name": "python",
      "nbconvert_exporter": "python",
      "pygments_lexer": "ipython3",
      "version": "3.7.3"
    },
    "varInspector": {
      "cols": {
        "lenName": 16,
        "lenType": 16,
        "lenVar": 40
      },
      "kernels_config": {
        "python": {
          "delete_cmd_postfix": "",
          "delete_cmd_prefix": "del ",
          "library": "var_list.py",
          "varRefreshCmd": "print(var_dic_list())"
        },
        "r": {
          "delete_cmd_postfix": ") ",
          "delete_cmd_prefix": "rm(",
          "library": "var_list.r",
          "varRefreshCmd": "cat(var_dic_list()) "
        }
      },
      "types_to_exclude": [
        "module",
        "function",
        "builtin_function_or_method",
        "instance",
        "_Feature"
      ],
      "window_display": false
    },
    "colab": {
      "provenance": [],
      "include_colab_link": true
    }
  },
  "nbformat": 4,
  "nbformat_minor": 0
}