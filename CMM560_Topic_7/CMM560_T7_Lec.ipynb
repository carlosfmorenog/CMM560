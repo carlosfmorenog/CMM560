{
  "cells": [
    {
      "cell_type": "markdown",
      "metadata": {
        "id": "view-in-github",
        "colab_type": "text"
      },
      "source": [
        "<a href=\"https://colab.research.google.com/github/carlosfmorenog/CMM560/blob/main/CMM560_Topic_7/CMM560_T7_Lec.ipynb\" target=\"_parent\"><img src=\"https://colab.research.google.com/assets/colab-badge.svg\" alt=\"Open In Colab\"/></a>"
      ]
    },
    {
      "cell_type": "markdown",
      "metadata": {
        "id": "WqFjQ36kFMeL"
      },
      "source": [
        "# CMM560 Topic 7 - Convolutional Neural Networks\n",
        "![My network is training!](https://www.dropbox.com/s/z4o984p7307gkhm/mynetistraining.png?raw=1)"
      ]
    },
    {
      "cell_type": "markdown",
      "metadata": {
        "id": "viYkpyxYFMeR"
      },
      "source": [
        "## Aims of the Session"
      ]
    },
    {
      "cell_type": "markdown",
      "metadata": {
        "id": "WHmOEk8GFMeS"
      },
      "source": [
        "* Learn the particularities of Convolutional Neural Networks (CNNs)"
      ]
    },
    {
      "cell_type": "markdown",
      "metadata": {
        "id": "WDgQFYHXFMeS"
      },
      "source": [
        "* Apply CNNs to image repositories in easy ways"
      ]
    },
    {
      "cell_type": "markdown",
      "metadata": {
        "id": "_t-K2p5kFMeT"
      },
      "source": [
        "## Resources for the Lecture"
      ]
    },
    {
      "cell_type": "markdown",
      "metadata": {
        "id": "uKWFAE--FMeU"
      },
      "source": [
        "* **Deep Learning with Python**. François Chollet. November 2017, ISBN 978161729443. Manning.\n",
        "    * Very recommendable book, it was written by the author of `Keras`"
      ]
    },
    {
      "cell_type": "markdown",
      "metadata": {
        "id": "zx3b-4BWFMeU"
      },
      "source": [
        "# Introduction"
      ]
    },
    {
      "cell_type": "markdown",
      "metadata": {
        "id": "stSMX7UgFMeU"
      },
      "source": [
        "![Easy vs Virtually Impossible](https://www.dropbox.com/s/yutzwr2okzrvop6/XKCD-easy_vs_virtuallyimpossible.png?raw=1)"
      ]
    },
    {
      "cell_type": "markdown",
      "metadata": {
        "id": "eT-vPakRFMeV"
      },
      "source": [
        "* For today's lecture (and for the lab as well) we will use the *Hello World!* of image datasets... **MNIST**"
      ]
    },
    {
      "cell_type": "markdown",
      "metadata": {
        "id": "EtwUsxZzFMeV"
      },
      "source": [
        "* This dataset contains 70'000 images (60k for training and 10k for testing) of handwritten numbers"
      ]
    },
    {
      "cell_type": "markdown",
      "metadata": {
        "id": "-XbpcRZEFMeV"
      },
      "source": [
        "* The task is to recognise digits from 0 to 9 in $28 \\times 28$ images"
      ]
    },
    {
      "cell_type": "markdown",
      "metadata": {
        "id": "gA4KFClhFMeV"
      },
      "source": [
        "* This dataset can be obtained ether by importing it through `Tensorflow` or `Keras`"
      ]
    },
    {
      "cell_type": "code",
      "execution_count": null,
      "metadata": {
        "id": "pxWYma2sFMeW"
      },
      "outputs": [],
      "source": [
        "# Installing the necesssary packages (no need in Google Colab)\n",
        "#!pip install tensorflow==2.11.0\n",
        "#!pip install keras==2.11.0"
      ]
    },
    {
      "cell_type": "code",
      "execution_count": null,
      "metadata": {
        "id": "ZFtJ6ZBsFMeX"
      },
      "outputs": [],
      "source": [
        "# Import Keras with Tensorflow backend and download the dataset\n",
        "import os\n",
        "os.environ['KERAS_BACKEND'] = 'tensorflow'\n",
        "\n",
        "from keras.datasets import mnist\n",
        "(X_train, Y_train), (X_test, Y_test) = mnist.load_data()"
      ]
    },
    {
      "cell_type": "code",
      "execution_count": null,
      "metadata": {
        "colab": {
          "base_uri": "https://localhost:8080/"
        },
        "id": "DBKsw98XFMeX",
        "outputId": "8918d0ca-0326-4e4f-c20c-dfb38bdbeaa6"
      },
      "outputs": [
        {
          "output_type": "stream",
          "name": "stdout",
          "text": [
            "(60000, 28, 28) (10000, 28, 28)\n"
          ]
        }
      ],
      "source": [
        "print(X_train.shape,X_test.shape)"
      ]
    },
    {
      "cell_type": "markdown",
      "metadata": {
        "id": "rmRWxBzOFMeY"
      },
      "source": [
        "* Notice that contrary to my recommendation, this dataset is stored as a 3D matrix"
      ]
    },
    {
      "cell_type": "markdown",
      "metadata": {
        "id": "4WTChGwbFMeY"
      },
      "source": [
        "* This means that the dataset has 60k train/10k test rows, each one with a $28 \\times 28$ image!"
      ]
    },
    {
      "cell_type": "markdown",
      "metadata": {
        "id": "icpABcU1FMeY"
      },
      "source": [
        "* This is for us to visualise the samples better (afterwards you will see that images need to be flattened to be used)"
      ]
    },
    {
      "cell_type": "code",
      "execution_count": null,
      "metadata": {
        "colab": {
          "base_uri": "https://localhost:8080/",
          "height": 483
        },
        "id": "z0uR3U9fFMeY",
        "outputId": "b9b6c746-7998-48ca-f78d-8fcd8621a4e1"
      },
      "outputs": [
        {
          "output_type": "stream",
          "name": "stdout",
          "text": [
            "(28, 28)\n",
            "The number is: 6\n"
          ]
        },
        {
          "output_type": "execute_result",
          "data": {
            "text/plain": [
              "<matplotlib.image.AxesImage at 0x7de1121653c0>"
            ]
          },
          "metadata": {},
          "execution_count": 9
        },
        {
          "output_type": "display_data",
          "data": {
            "text/plain": [
              "<Figure size 640x480 with 1 Axes>"
            ],
            "image/png": "[encoded data removed]"
          },
          "metadata": {}
        }
      ],
      "source": [
        "import matplotlib.pyplot as plt\n",
        "\n",
        "sample = 59000\n",
        "\n",
        "print(X_train[sample].shape)\n",
        "print('The number is: '+str(Y_train[sample]))\n",
        "plt.imshow(X_train[sample])"
      ]
    },
    {
      "cell_type": "markdown",
      "metadata": {
        "id": "_qwSilXfFMeZ"
      },
      "source": [
        "# Why do CNNs work better than fully connected networks for images?"
      ]
    },
    {
      "cell_type": "markdown",
      "metadata": {
        "id": "53IQ-qn_FMeZ"
      },
      "source": [
        "## The convolutional operation"
      ]
    },
    {
      "cell_type": "markdown",
      "metadata": {
        "id": "ChCcn3ebFMeZ"
      },
      "source": [
        "* Two types of layers:"
      ]
    },
    {
      "cell_type": "markdown",
      "metadata": {
        "id": "9Y7HO5GTFMeZ"
      },
      "source": [
        "* `Dense` layers learn global patterns"
      ]
    },
    {
      "cell_type": "markdown",
      "metadata": {
        "id": "rXmu-gWAFMeZ"
      },
      "source": [
        "* `Conv` learn local patterns"
      ]
    },
    {
      "cell_type": "markdown",
      "metadata": {
        "id": "0n4ymN0zFMea"
      },
      "source": [
        "![Fig 1. Local patterns learned from an image](https://www.dropbox.com/s/hq9d4g7pheyttfr/mnistlocal.png?raw=1)"
      ]
    },
    {
      "cell_type": "markdown",
      "metadata": {
        "id": "rKZ6DyOIFMea"
      },
      "source": [
        " * CNNs not only classify, but also extract their own features!"
      ]
    },
    {
      "cell_type": "markdown",
      "metadata": {
        "id": "g8jhfKLFFMea"
      },
      "source": [
        "* The patterns/features that CNNs learn are **translation invariant**\n",
        "    * Once it learns it, it can recognise it anywhere in the image"
      ]
    },
    {
      "cell_type": "markdown",
      "metadata": {
        "id": "nzdL-4FwFMea"
      },
      "source": [
        "* They can learn **spatial hierarchies** of patterns\n",
        "    * Each layer learns different type of features\n",
        "        * First layer learns edges, second learns larger patterns, and so on"
      ]
    },
    {
      "cell_type": "markdown",
      "metadata": {
        "id": "Uv5vQWl1FMea"
      },
      "source": [
        "![Fig 2. How a CNN learns features](https://www.dropbox.com/s/vc3rukz9excn8ev/featlearn.png?raw=1)"
      ]
    },
    {
      "cell_type": "markdown",
      "metadata": {
        "id": "d-BQ_l_eFMeb"
      },
      "source": [
        "## How do CNNs learn?"
      ]
    },
    {
      "cell_type": "markdown",
      "metadata": {
        "id": "Kjqq5-d0FMeb"
      },
      "source": [
        "* The images of the **MNIST** dataset are all $28 \\times 28$ pixels"
      ]
    },
    {
      "cell_type": "markdown",
      "metadata": {
        "id": "fPA4ZezqFMeb"
      },
      "source": [
        "* The first **convolution** layer takes a $(28, 28, 1)$ image and outputs a **feature map** of size $(26, 26, 32)$"
      ]
    },
    {
      "cell_type": "markdown",
      "metadata": {
        "id": "LDg4ViKgFMeb"
      },
      "source": [
        "* This is because it computes $32$ **filters** over the input!"
      ]
    },
    {
      "cell_type": "markdown",
      "metadata": {
        "id": "SsBk4PRVFMeb"
      },
      "source": [
        "* That means that after the first layer, the network transforms the training images into 32 output channels, each containing a $26 \\times 26$ filter, which is a **response map**"
      ]
    },
    {
      "cell_type": "markdown",
      "metadata": {
        "id": "J5AJK0yIFMec"
      },
      "source": [
        "![Fig 3. Visual representation of a response map](https://www.dropbox.com/s/qxvuudn5hde4myz/responsemap.png?raw=1)"
      ]
    },
    {
      "cell_type": "markdown",
      "metadata": {
        "id": "AilC3hgZFMec"
      },
      "source": [
        "* A response map is the response of a filter at different locations of the input"
      ]
    },
    {
      "cell_type": "markdown",
      "metadata": {
        "id": "haprEnLhFMec"
      },
      "source": [
        "* This is how CNNs extract features; by applying filters over the images and finding responses to them!"
      ]
    },
    {
      "cell_type": "markdown",
      "metadata": {
        "id": "tX2Zywy6FMec"
      },
      "source": [
        "**Why is the response map $26 \\times 26$?**"
      ]
    },
    {
      "cell_type": "markdown",
      "metadata": {
        "id": "viqEwzNOFMec"
      },
      "source": [
        "**Why 32 filters?**"
      ]
    },
    {
      "cell_type": "raw",
      "metadata": {
        "id": "75OVMdhrFMec"
      },
      "source": [
        "26x26 because of the border effect (or the striding), and 32 filters can be changed (enough for MNIST)"
      ]
    },
    {
      "cell_type": "markdown",
      "metadata": {
        "id": "9NoSCrf0FMec"
      },
      "source": [
        "## Basic Parameters of CNNs"
      ]
    },
    {
      "cell_type": "markdown",
      "metadata": {
        "id": "C9YCy0R4FMed"
      },
      "source": [
        "* **Size of the patches extracted:** Typically $3 \\times 3$ or $5 \\times 5$. In the example above, you can see $3 \\times 3$"
      ]
    },
    {
      "cell_type": "markdown",
      "metadata": {
        "id": "2SR0X_F3FMed"
      },
      "source": [
        "* **Depth of the output feature map:** Number of filters. This can change, i.e. can start with a *depth* of 32 and finish with 64"
      ]
    },
    {
      "cell_type": "markdown",
      "metadata": {
        "id": "YGCR5gENFMed"
      },
      "source": [
        "In `Keras`, you can import a `Conv2D` layer, to which you can pass these values"
      ]
    },
    {
      "cell_type": "markdown",
      "metadata": {
        "id": "mmGBPD3GFMed"
      },
      "source": [
        "* Conv2D(output_depth,(window_height, window_width))"
      ]
    },
    {
      "cell_type": "markdown",
      "metadata": {
        "id": "MhietldqFMed"
      },
      "source": [
        "## How do Convolution Layers Work?"
      ]
    },
    {
      "cell_type": "markdown",
      "metadata": {
        "id": "CMgKY7GjFMed"
      },
      "source": [
        "* A convolution layer works by sliding the patches over the 3D input map, stopping at every location and extracting the 3D patch"
      ]
    },
    {
      "cell_type": "markdown",
      "metadata": {
        "id": "mkOWwoiWFMed"
      },
      "source": [
        "* Each of these patches is flattened into a 1D vector of size (`output_depth`,)"
      ]
    },
    {
      "cell_type": "markdown",
      "metadata": {
        "id": "ZkscJ9JWFMee"
      },
      "source": [
        "* The process can be best illustrated using the following figure:"
      ]
    },
    {
      "cell_type": "markdown",
      "metadata": {
        "id": "k2DAqMGcFMee"
      },
      "source": [
        "![Fig 4. How convolutional layers work](https://www.dropbox.com/s/v6cce6spsoppw01/transform.png?raw=1)"
      ]
    },
    {
      "cell_type": "markdown",
      "metadata": {
        "id": "9xZgM-6BFMee"
      },
      "source": [
        "## Border Effect and Strides"
      ]
    },
    {
      "cell_type": "markdown",
      "metadata": {
        "id": "7tNOjttkFMee"
      },
      "source": [
        "* Notice that we started with a $(28, 28, 1)$ image and we ended with a $(26, 26, 32)$ **feature map**!"
      ]
    },
    {
      "cell_type": "markdown",
      "metadata": {
        "id": "oU7sBzSPFMee"
      },
      "source": [
        "* Two main reasons for not having the same width & height:\n",
        "    * The **border effect** (which can be countered by applying `padding`)\n",
        "    * The use of **strides**"
      ]
    },
    {
      "cell_type": "markdown",
      "metadata": {
        "id": "0Syqwx-cFMee"
      },
      "source": [
        "### The Border Effect & Padding"
      ]
    },
    {
      "cell_type": "markdown",
      "metadata": {
        "id": "pGvuL68XFMee"
      },
      "source": [
        "* Remember that a CNN uses a convolution layer that applies a filter for each position of the image, similar to sliding a window throughout the image"
      ]
    },
    {
      "cell_type": "markdown",
      "metadata": {
        "id": "tf06caZkFMef"
      },
      "source": [
        "* By nature, this sliding window cannot be centered exactly throughout the entire image!"
      ]
    },
    {
      "cell_type": "markdown",
      "metadata": {
        "id": "x4DkuC-nFMef"
      },
      "source": [
        "* For instance, in a $5 \\times 5$ feature map, you could only center a $3 \\times 3$ window in 9 positions as shown in the image below:"
      ]
    },
    {
      "cell_type": "markdown",
      "metadata": {
        "id": "ivuQStwaFMef"
      },
      "source": [
        "![Fig 5. Valid locations of 3x3 patches in 5x5 input](https://www.dropbox.com/s/cgkjmxzn9nxkmsm/window.png?raw=1)"
      ]
    },
    {
      "cell_type": "markdown",
      "metadata": {
        "id": "OToxExglFMef"
      },
      "source": [
        "* If you want to get an output with the same size as the input, you need to apply `padding`"
      ]
    },
    {
      "cell_type": "markdown",
      "metadata": {
        "id": "Bm8mR-HqFMef"
      },
      "source": [
        "* In short, this is like adding a *margin* to the image so that the filter can be centered in more positions!"
      ]
    },
    {
      "cell_type": "markdown",
      "metadata": {
        "id": "zs8OWAILFMef"
      },
      "source": [
        "* In the next figure you can see how the $3 \\times 3$ filter can be located in 25 positions now, thus delivering a $5 \\times 5$ output"
      ]
    },
    {
      "cell_type": "markdown",
      "metadata": {
        "id": "8igZpW7FFMef"
      },
      "source": [
        "![Fig 6. How padding works](https://www.dropbox.com/s/6jesljdoxa5v5nq/padding.png?raw=1)"
      ]
    },
    {
      "cell_type": "markdown",
      "metadata": {
        "id": "8O7F1JxKFMef"
      },
      "source": [
        "* In the `Conv2D` function in `Keras`, padding is enabled by setting the parameter `padding = 'valid'`"
      ]
    },
    {
      "cell_type": "markdown",
      "metadata": {
        "id": "jbzTQMEIFMef"
      },
      "source": [
        "### Striding"
      ]
    },
    {
      "cell_type": "markdown",
      "metadata": {
        "id": "fRp5V5_1FMeg"
      },
      "source": [
        "* When images are considerably large, you don't want the sliding window to stop at every position!"
      ]
    },
    {
      "cell_type": "markdown",
      "metadata": {
        "id": "m-ufaxt1FMeg"
      },
      "source": [
        "* You may introduce a parameter called `stride` which allows your convolution window to skip positions"
      ]
    },
    {
      "cell_type": "markdown",
      "metadata": {
        "id": "EwbDauLBFMeg"
      },
      "source": [
        "* A `stride=1` stops in every position, but for instance `stride=2` will make the filter to move with a step of 2, this skipping half of the positions!"
      ]
    },
    {
      "cell_type": "markdown",
      "metadata": {
        "id": "Rx-atUa8FMeg"
      },
      "source": [
        "* Recall the example presented before. Without considering padding, the $3 \\times 3$ filter will only stop at four positions of the image"
      ]
    },
    {
      "cell_type": "markdown",
      "metadata": {
        "id": "StrW3KERFMeg"
      },
      "source": [
        "![Fig 7. Stride of 2](https://www.dropbox.com/s/scuaobz41fxks8t/strideof2.png?raw=1)"
      ]
    },
    {
      "cell_type": "markdown",
      "metadata": {
        "id": "0_b-bJgbFMeg"
      },
      "source": [
        "* This is rarely used in practice (people don't want to lose important features in between the image)"
      ]
    },
    {
      "cell_type": "markdown",
      "metadata": {
        "id": "zd071OUxFMeg"
      },
      "source": [
        "* It is more recommended to use `Max Pooling`"
      ]
    },
    {
      "cell_type": "markdown",
      "metadata": {
        "id": "-g3oZZbGFMeg"
      },
      "source": [
        "### Max Pooling"
      ]
    },
    {
      "cell_type": "markdown",
      "metadata": {
        "id": "2FvwuNUuFMeg"
      },
      "source": [
        "* You can add to your model a `Max Pooling` layer which halves your feature map"
      ]
    },
    {
      "cell_type": "markdown",
      "metadata": {
        "id": "kCAKqoLcFMeg"
      },
      "source": [
        "* Max pooling extracts windows from the input much like a convolution"
      ]
    },
    {
      "cell_type": "markdown",
      "metadata": {
        "id": "LAeuytyOFMeg"
      },
      "source": [
        "* Why should we use it? Imagine a CNN with no max pooling:"
      ]
    },
    {
      "cell_type": "markdown",
      "metadata": {
        "id": "BTgRMpEgFMeh"
      },
      "source": [
        "![Fig 8. Example of a CNN in Keras with no max pooling](https://www.dropbox.com/s/ryc28146axk23ej/nomaxpooling.png?raw=1)"
      ]
    },
    {
      "cell_type": "markdown",
      "metadata": {
        "id": "CfYQB_xIFMeh"
      },
      "source": [
        "We can print the summary of the model with the following code:"
      ]
    },
    {
      "cell_type": "markdown",
      "metadata": {
        "id": "0jAPgpegFMeh"
      },
      "source": [
        "![Fig 9. Summary of a CNN without max pooling](https://www.dropbox.com/s/oi3djvi7k85b86d/nomaxpoolingsummary.png?raw=1)"
      ]
    },
    {
      "cell_type": "markdown",
      "metadata": {
        "id": "wnJy3mnwFMeh"
      },
      "source": [
        "* Notice that the number of parameters grow drastically after each layer\n",
        "    * The final feature map (the one with $22 \\times 22 \\times 64 = 36'928$ parameters) has to be `flattened` and then a `Dense` layer has to be applied, resulting in 15 million parameters!"
      ]
    },
    {
      "cell_type": "markdown",
      "metadata": {
        "id": "OAq-6M5SFMeh"
      },
      "source": [
        "* However, the model isn't learning a **hierarchy** of features! This means that as layers progress, the CNN would get smaller and smaller images and thus will be unable to learn the features"
      ]
    },
    {
      "cell_type": "markdown",
      "metadata": {
        "id": "X3PzVTVOFMeh"
      },
      "source": [
        "* You need the last layer to contain information about the whole image"
      ]
    },
    {
      "cell_type": "markdown",
      "metadata": {
        "id": "Gc1f7tR2FMeh"
      },
      "source": [
        "### The Flatten Layer"
      ]
    },
    {
      "cell_type": "markdown",
      "metadata": {
        "id": "jfo4lLnLFMeh"
      },
      "source": [
        "* Not to be confused with flattening an image!"
      ]
    },
    {
      "cell_type": "markdown",
      "metadata": {
        "id": "i04nVUUVFMeh"
      },
      "source": [
        "* After a convolution layer and before a `Dense` (i.e. fully connected layer), there is a `flatten` layer that transforms the matrix feature maps into vectors for the `Dense` layer to operate"
      ]
    },
    {
      "cell_type": "markdown",
      "metadata": {
        "id": "ufSnHMUSFMeh"
      },
      "source": [
        "![Fig 10. The flatten layer in a CNN](https://www.dropbox.com/s/zicquaubtbbuzdv/flattencnn.png?raw=1)"
      ]
    },
    {
      "cell_type": "markdown",
      "metadata": {
        "id": "SKsNQ621FMeh"
      },
      "source": [
        "### Final example of a CNN"
      ]
    },
    {
      "cell_type": "markdown",
      "metadata": {
        "id": "2pG9GJiaFMeh"
      },
      "source": [
        "![Fig 11. Final example of a CNN](https://www.dropbox.com/s/4tlkt6myhu8fn4x/finalcnn.png?raw=1)"
      ]
    },
    {
      "cell_type": "markdown",
      "metadata": {
        "id": "-5rJkN5MFMei"
      },
      "source": [
        "I recommend you to also read [this source](https://medium.com/@RaghavPrabhu/understanding-of-convolutional-neural-network-cnn-deep-learning-99760835f148) if you have questions regarding any of the steps"
      ]
    },
    {
      "cell_type": "markdown",
      "metadata": {
        "id": "w_MRdgVHFMei"
      },
      "source": [
        "# Other useful concepts"
      ]
    },
    {
      "cell_type": "markdown",
      "metadata": {
        "id": "-uWZkYBVFMei"
      },
      "source": [
        "* The following are not exclusive to CNNs, and are widely used in all NNs to further improve performance"
      ]
    },
    {
      "cell_type": "markdown",
      "metadata": {
        "id": "HdEh2gbLFMei"
      },
      "source": [
        "### Dropout"
      ]
    },
    {
      "cell_type": "markdown",
      "metadata": {
        "id": "AP4W9AEXFMei"
      },
      "source": [
        "* Reduces overfitting"
      ]
    },
    {
      "cell_type": "markdown",
      "metadata": {
        "id": "4X4whj5fFMei"
      },
      "source": [
        "* It is rare that you use a fully connected layer as this may extract features that are too related to each other!"
      ]
    },
    {
      "cell_type": "markdown",
      "metadata": {
        "id": "bwK3Nk9nFMei"
      },
      "source": [
        "* You implement a dropout percent per layer. This randomly disconnects layers from the previous layer into the current one"
      ]
    },
    {
      "cell_type": "markdown",
      "metadata": {
        "id": "vc5IpselFMej"
      },
      "source": [
        "### Epochs"
      ]
    },
    {
      "cell_type": "markdown",
      "metadata": {
        "id": "H0AQocdAFMej"
      },
      "source": [
        "* Machine learning has by default an iterative nature (recall Gradient Descent)\n",
        "    * The more you iterate things, the \"better\"!"
      ]
    },
    {
      "cell_type": "markdown",
      "metadata": {
        "id": "mJ_4tn2PFMej"
      },
      "source": [
        "* An epoch occurs when the entire dataset is passed forward and backward through the network once."
      ]
    },
    {
      "cell_type": "markdown",
      "metadata": {
        "id": "vLG2NQPiFMej"
      },
      "source": [
        "* By passing the dataset multiple times, you can further reduce the loss and increase the training/validation accuracy"
      ]
    },
    {
      "cell_type": "markdown",
      "metadata": {
        "id": "vkbPGXuaFMej"
      },
      "source": [
        "**The more epochs, the better?**"
      ]
    },
    {
      "cell_type": "markdown",
      "metadata": {
        "id": "he5ZlOq2FMej"
      },
      "source": [
        "Not necessarily, as everything in life, bigger is not always better! CNNs can stall or overfit when trained a lot"
      ]
    },
    {
      "cell_type": "markdown",
      "metadata": {
        "id": "QNH6nM3NFMej"
      },
      "source": [
        "### Batch Size"
      ]
    },
    {
      "cell_type": "markdown",
      "metadata": {
        "id": "G4BsWgdZFMej"
      },
      "source": [
        "* Imagine training a network with the MNIST dataset"
      ]
    },
    {
      "cell_type": "markdown",
      "metadata": {
        "id": "SfUDysR4FMej"
      },
      "source": [
        "* You would need to pass 60k images in each epoch\n",
        "! This would take a while!"
      ]
    },
    {
      "cell_type": "markdown",
      "metadata": {
        "id": "WT90NqU6FMej"
      },
      "source": [
        "* You can set a `batch_size` to pass your data in chunks"
      ]
    },
    {
      "cell_type": "markdown",
      "metadata": {
        "id": "RtP72EnrFMej"
      },
      "source": [
        "* This may have an effect on your training results if the sequence of batches is not properly set\n",
        "    * i.e. if you only pass batches from the negative class first, and then the positive one, your classifier may get biased towards the first class before being able to learn from the second."
      ]
    },
    {
      "cell_type": "markdown",
      "metadata": {
        "id": "VyH2YTY0FMej"
      },
      "source": [
        "### The ADAM Optimiser"
      ]
    },
    {
      "cell_type": "markdown",
      "metadata": {
        "id": "zjMJGNRqFMej"
      },
      "source": [
        "* A faster way to optimise gradient descent compared to the more classical approaches"
      ]
    },
    {
      "cell_type": "markdown",
      "metadata": {
        "id": "ayKYwvEmFMej"
      },
      "source": [
        "* It may obtain worse results, but compensates with speed!"
      ]
    },
    {
      "cell_type": "markdown",
      "metadata": {
        "id": "M3m4MV_8FMej"
      },
      "source": [
        "* Combination of RMSprop and Stochastic Gradient Descent with momentum. More info [here](https://towardsdatascience.com/adam-latest-trends-in-deep-learning-optimization-6be9a291375c)"
      ]
    },
    {
      "cell_type": "markdown",
      "metadata": {
        "id": "OT4AtEXdFMej"
      },
      "source": [
        "## Some common CNN problems"
      ]
    },
    {
      "cell_type": "markdown",
      "metadata": {
        "id": "MNan-5SyFMej"
      },
      "source": [
        "![Fig 12. The most common mistake when using CNNs](https://www.dropbox.com/s/z4xrn157wxpoygk/cnn.jpg?raw=1)"
      ]
    },
    {
      "cell_type": "markdown",
      "metadata": {
        "id": "1DD-yTqYFMej"
      },
      "source": [
        "Translation but not rotation invariant, and they learn with the focus of the training images"
      ]
    },
    {
      "cell_type": "markdown",
      "metadata": {
        "id": "Ol-w6vxdFMej"
      },
      "source": [
        "![Fig 13. The 2nd most common mistake when using CNNs](https://www.dropbox.com/s/d7ewodct05f1m13/dogpigloaf.gif?raw=1)"
      ]
    },
    {
      "cell_type": "markdown",
      "metadata": {
        "id": "8FkqFLlMFMel"
      },
      "source": [
        "CNNs don't know when to stop classifying (especially in video) and can produce unstable results. In the end, hey are also probabilistic models!"
      ]
    },
    {
      "cell_type": "code",
      "execution_count": null,
      "metadata": {
        "colab": {
          "base_uri": "https://localhost:8080/",
          "height": 336
        },
        "id": "56fIOFnWFMel",
        "outputId": "3ea289d4-dacd-402b-e6be-4d8ea270b297"
      },
      "outputs": [
        {
          "output_type": "execute_result",
          "data": {
            "text/plain": [
              "<IPython.core.display.HTML object>"
            ],
            "text/html": [
              "<iframe width=\"560\" height=\"315\" src=\"https://www.youtube.com/embed/vIci3C4JkL0?start=50\" title=\"YouTube video player\" frameborder=\"0\" allow=\"accelerometer; autoplay; clipboard-write; encrypted-media; gyroscope; picture-in-picture\" allowfullscreen></iframe>"
            ]
          },
          "metadata": {},
          "execution_count": 10
        }
      ],
      "source": [
        "import warnings;\n",
        "warnings.simplefilter('ignore')\n",
        "from IPython.display import HTML\n",
        "HTML('<iframe width=\"560\" height=\"315\" src=\"https://www.youtube.com/embed/vIci3C4JkL0?start=50\" title=\"YouTube video player\" frameborder=\"0\" allow=\"accelerometer; autoplay; clipboard-write; encrypted-media; gyroscope; picture-in-picture\" allowfullscreen></iframe>')"
      ]
    },
    {
      "cell_type": "markdown",
      "metadata": {
        "id": "Ioq9sPRSFMel"
      },
      "source": [
        "You need to carefully choose your training classes!"
      ]
    },
    {
      "cell_type": "markdown",
      "metadata": {
        "id": "VCNsUEdXFMem"
      },
      "source": [
        "# Lab"
      ]
    }
  ],
  "metadata": {
    "celltoolbar": "Slideshow",
    "hide_input": false,
    "kernelspec": {
      "display_name": "Python 3 (ipykernel)",
      "language": "python",
      "name": "python3"
    },
    "language_info": {
      "codemirror_mode": {
        "name": "ipython",
        "version": 3
      },
      "file_extension": ".py",
      "mimetype": "text/x-python",
      "name": "python",
      "nbconvert_exporter": "python",
      "pygments_lexer": "ipython3",
      "version": "3.11.3"
    },
    "rise": {
      "backimage": "../mybackimage.png",
      "enable_chalkboard": true,
      "scroll": true
    },
    "varInspector": {
      "cols": {
        "lenName": 16,
        "lenType": 16,
        "lenVar": 40
      },
      "kernels_config": {
        "python": {
          "delete_cmd_postfix": "",
          "delete_cmd_prefix": "del ",
          "library": "var_list.py",
          "varRefreshCmd": "print(var_dic_list())"
        },
        "r": {
          "delete_cmd_postfix": ") ",
          "delete_cmd_prefix": "rm(",
          "library": "var_list.r",
          "varRefreshCmd": "cat(var_dic_list()) "
        }
      },
      "types_to_exclude": [
        "module",
        "function",
        "builtin_function_or_method",
        "instance",
        "_Feature"
      ],
      "window_display": false
    },
    "colab": {
      "provenance": [],
      "include_colab_link": true
    }
  },
  "nbformat": 4,
  "nbformat_minor": 0
}